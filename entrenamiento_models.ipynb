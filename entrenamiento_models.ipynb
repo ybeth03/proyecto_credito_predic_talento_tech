{
 "cells": [
  {
   "cell_type": "markdown",
   "metadata": {},
   "source": [
    "# Manejo de datos\n",
    "\n",
    "Enlace de los datos: https://www.kaggle.com/datasets/laotse/credit-risk-dataset/data"
   ]
  },
  {
   "cell_type": "code",
   "execution_count": 128,
   "metadata": {},
   "outputs": [],
   "source": [
    "import pandas as pd\n",
    "import numpy as np\n",
    "import matplotlib.pyplot as plt\n",
    "import seaborn as sns "
   ]
  },
  {
   "cell_type": "code",
   "execution_count": 129,
   "metadata": {},
   "outputs": [],
   "source": [
    "ruta_data = 'Datos/credit_risk_dataset.csv'"
   ]
  },
  {
   "cell_type": "code",
   "execution_count": 130,
   "metadata": {},
   "outputs": [],
   "source": [
    "df_credit = pd.read_csv(ruta_data)"
   ]
  },
  {
   "cell_type": "code",
   "execution_count": 131,
   "metadata": {},
   "outputs": [
    {
     "data": {
      "text/html": [
       "<div>\n",
       "<style scoped>\n",
       "    .dataframe tbody tr th:only-of-type {\n",
       "        vertical-align: middle;\n",
       "    }\n",
       "\n",
       "    .dataframe tbody tr th {\n",
       "        vertical-align: top;\n",
       "    }\n",
       "\n",
       "    .dataframe thead th {\n",
       "        text-align: right;\n",
       "    }\n",
       "</style>\n",
       "<table border=\"1\" class=\"dataframe\">\n",
       "  <thead>\n",
       "    <tr style=\"text-align: right;\">\n",
       "      <th></th>\n",
       "      <th>person_age</th>\n",
       "      <th>person_income</th>\n",
       "      <th>person_home_ownership</th>\n",
       "      <th>person_emp_length</th>\n",
       "      <th>loan_intent</th>\n",
       "      <th>loan_grade</th>\n",
       "      <th>loan_amnt</th>\n",
       "      <th>loan_int_rate</th>\n",
       "      <th>loan_status</th>\n",
       "      <th>loan_percent_income</th>\n",
       "      <th>cb_person_default_on_file</th>\n",
       "      <th>cb_person_cred_hist_length</th>\n",
       "    </tr>\n",
       "  </thead>\n",
       "  <tbody>\n",
       "    <tr>\n",
       "      <th>0</th>\n",
       "      <td>22</td>\n",
       "      <td>59000</td>\n",
       "      <td>RENT</td>\n",
       "      <td>123.0</td>\n",
       "      <td>PERSONAL</td>\n",
       "      <td>D</td>\n",
       "      <td>35000</td>\n",
       "      <td>16.02</td>\n",
       "      <td>1</td>\n",
       "      <td>0.59</td>\n",
       "      <td>Y</td>\n",
       "      <td>3</td>\n",
       "    </tr>\n",
       "    <tr>\n",
       "      <th>1</th>\n",
       "      <td>21</td>\n",
       "      <td>9600</td>\n",
       "      <td>OWN</td>\n",
       "      <td>5.0</td>\n",
       "      <td>EDUCATION</td>\n",
       "      <td>B</td>\n",
       "      <td>1000</td>\n",
       "      <td>11.14</td>\n",
       "      <td>0</td>\n",
       "      <td>0.10</td>\n",
       "      <td>N</td>\n",
       "      <td>2</td>\n",
       "    </tr>\n",
       "    <tr>\n",
       "      <th>2</th>\n",
       "      <td>25</td>\n",
       "      <td>9600</td>\n",
       "      <td>MORTGAGE</td>\n",
       "      <td>1.0</td>\n",
       "      <td>MEDICAL</td>\n",
       "      <td>C</td>\n",
       "      <td>5500</td>\n",
       "      <td>12.87</td>\n",
       "      <td>1</td>\n",
       "      <td>0.57</td>\n",
       "      <td>N</td>\n",
       "      <td>3</td>\n",
       "    </tr>\n",
       "    <tr>\n",
       "      <th>3</th>\n",
       "      <td>23</td>\n",
       "      <td>65500</td>\n",
       "      <td>RENT</td>\n",
       "      <td>4.0</td>\n",
       "      <td>MEDICAL</td>\n",
       "      <td>C</td>\n",
       "      <td>35000</td>\n",
       "      <td>15.23</td>\n",
       "      <td>1</td>\n",
       "      <td>0.53</td>\n",
       "      <td>N</td>\n",
       "      <td>2</td>\n",
       "    </tr>\n",
       "    <tr>\n",
       "      <th>4</th>\n",
       "      <td>24</td>\n",
       "      <td>54400</td>\n",
       "      <td>RENT</td>\n",
       "      <td>8.0</td>\n",
       "      <td>MEDICAL</td>\n",
       "      <td>C</td>\n",
       "      <td>35000</td>\n",
       "      <td>14.27</td>\n",
       "      <td>1</td>\n",
       "      <td>0.55</td>\n",
       "      <td>Y</td>\n",
       "      <td>4</td>\n",
       "    </tr>\n",
       "    <tr>\n",
       "      <th>...</th>\n",
       "      <td>...</td>\n",
       "      <td>...</td>\n",
       "      <td>...</td>\n",
       "      <td>...</td>\n",
       "      <td>...</td>\n",
       "      <td>...</td>\n",
       "      <td>...</td>\n",
       "      <td>...</td>\n",
       "      <td>...</td>\n",
       "      <td>...</td>\n",
       "      <td>...</td>\n",
       "      <td>...</td>\n",
       "    </tr>\n",
       "    <tr>\n",
       "      <th>32576</th>\n",
       "      <td>57</td>\n",
       "      <td>53000</td>\n",
       "      <td>MORTGAGE</td>\n",
       "      <td>1.0</td>\n",
       "      <td>PERSONAL</td>\n",
       "      <td>C</td>\n",
       "      <td>5800</td>\n",
       "      <td>13.16</td>\n",
       "      <td>0</td>\n",
       "      <td>0.11</td>\n",
       "      <td>N</td>\n",
       "      <td>30</td>\n",
       "    </tr>\n",
       "    <tr>\n",
       "      <th>32577</th>\n",
       "      <td>54</td>\n",
       "      <td>120000</td>\n",
       "      <td>MORTGAGE</td>\n",
       "      <td>4.0</td>\n",
       "      <td>PERSONAL</td>\n",
       "      <td>A</td>\n",
       "      <td>17625</td>\n",
       "      <td>7.49</td>\n",
       "      <td>0</td>\n",
       "      <td>0.15</td>\n",
       "      <td>N</td>\n",
       "      <td>19</td>\n",
       "    </tr>\n",
       "    <tr>\n",
       "      <th>32578</th>\n",
       "      <td>65</td>\n",
       "      <td>76000</td>\n",
       "      <td>RENT</td>\n",
       "      <td>3.0</td>\n",
       "      <td>HOMEIMPROVEMENT</td>\n",
       "      <td>B</td>\n",
       "      <td>35000</td>\n",
       "      <td>10.99</td>\n",
       "      <td>1</td>\n",
       "      <td>0.46</td>\n",
       "      <td>N</td>\n",
       "      <td>28</td>\n",
       "    </tr>\n",
       "    <tr>\n",
       "      <th>32579</th>\n",
       "      <td>56</td>\n",
       "      <td>150000</td>\n",
       "      <td>MORTGAGE</td>\n",
       "      <td>5.0</td>\n",
       "      <td>PERSONAL</td>\n",
       "      <td>B</td>\n",
       "      <td>15000</td>\n",
       "      <td>11.48</td>\n",
       "      <td>0</td>\n",
       "      <td>0.10</td>\n",
       "      <td>N</td>\n",
       "      <td>26</td>\n",
       "    </tr>\n",
       "    <tr>\n",
       "      <th>32580</th>\n",
       "      <td>66</td>\n",
       "      <td>42000</td>\n",
       "      <td>RENT</td>\n",
       "      <td>2.0</td>\n",
       "      <td>MEDICAL</td>\n",
       "      <td>B</td>\n",
       "      <td>6475</td>\n",
       "      <td>9.99</td>\n",
       "      <td>0</td>\n",
       "      <td>0.15</td>\n",
       "      <td>N</td>\n",
       "      <td>30</td>\n",
       "    </tr>\n",
       "  </tbody>\n",
       "</table>\n",
       "<p>32581 rows × 12 columns</p>\n",
       "</div>"
      ],
      "text/plain": [
       "       person_age  person_income person_home_ownership  person_emp_length  \\\n",
       "0              22          59000                  RENT              123.0   \n",
       "1              21           9600                   OWN                5.0   \n",
       "2              25           9600              MORTGAGE                1.0   \n",
       "3              23          65500                  RENT                4.0   \n",
       "4              24          54400                  RENT                8.0   \n",
       "...           ...            ...                   ...                ...   \n",
       "32576          57          53000              MORTGAGE                1.0   \n",
       "32577          54         120000              MORTGAGE                4.0   \n",
       "32578          65          76000                  RENT                3.0   \n",
       "32579          56         150000              MORTGAGE                5.0   \n",
       "32580          66          42000                  RENT                2.0   \n",
       "\n",
       "           loan_intent loan_grade  loan_amnt  loan_int_rate  loan_status  \\\n",
       "0             PERSONAL          D      35000          16.02            1   \n",
       "1            EDUCATION          B       1000          11.14            0   \n",
       "2              MEDICAL          C       5500          12.87            1   \n",
       "3              MEDICAL          C      35000          15.23            1   \n",
       "4              MEDICAL          C      35000          14.27            1   \n",
       "...                ...        ...        ...            ...          ...   \n",
       "32576         PERSONAL          C       5800          13.16            0   \n",
       "32577         PERSONAL          A      17625           7.49            0   \n",
       "32578  HOMEIMPROVEMENT          B      35000          10.99            1   \n",
       "32579         PERSONAL          B      15000          11.48            0   \n",
       "32580          MEDICAL          B       6475           9.99            0   \n",
       "\n",
       "       loan_percent_income cb_person_default_on_file  \\\n",
       "0                     0.59                         Y   \n",
       "1                     0.10                         N   \n",
       "2                     0.57                         N   \n",
       "3                     0.53                         N   \n",
       "4                     0.55                         Y   \n",
       "...                    ...                       ...   \n",
       "32576                 0.11                         N   \n",
       "32577                 0.15                         N   \n",
       "32578                 0.46                         N   \n",
       "32579                 0.10                         N   \n",
       "32580                 0.15                         N   \n",
       "\n",
       "       cb_person_cred_hist_length  \n",
       "0                               3  \n",
       "1                               2  \n",
       "2                               3  \n",
       "3                               2  \n",
       "4                               4  \n",
       "...                           ...  \n",
       "32576                          30  \n",
       "32577                          19  \n",
       "32578                          28  \n",
       "32579                          26  \n",
       "32580                          30  \n",
       "\n",
       "[32581 rows x 12 columns]"
      ]
     },
     "execution_count": 131,
     "metadata": {},
     "output_type": "execute_result"
    }
   ],
   "source": [
    "df_credit"
   ]
  },
  {
   "cell_type": "code",
   "execution_count": 132,
   "metadata": {},
   "outputs": [
    {
     "name": "stdout",
     "output_type": "stream",
     "text": [
      "<class 'pandas.core.frame.DataFrame'>\n",
      "RangeIndex: 32581 entries, 0 to 32580\n",
      "Data columns (total 12 columns):\n",
      " #   Column                      Non-Null Count  Dtype  \n",
      "---  ------                      --------------  -----  \n",
      " 0   person_age                  32581 non-null  int64  \n",
      " 1   person_income               32581 non-null  int64  \n",
      " 2   person_home_ownership       32581 non-null  object \n",
      " 3   person_emp_length           31686 non-null  float64\n",
      " 4   loan_intent                 32581 non-null  object \n",
      " 5   loan_grade                  32581 non-null  object \n",
      " 6   loan_amnt                   32581 non-null  int64  \n",
      " 7   loan_int_rate               29465 non-null  float64\n",
      " 8   loan_status                 32581 non-null  int64  \n",
      " 9   loan_percent_income         32581 non-null  float64\n",
      " 10  cb_person_default_on_file   32581 non-null  object \n",
      " 11  cb_person_cred_hist_length  32581 non-null  int64  \n",
      "dtypes: float64(3), int64(5), object(4)\n",
      "memory usage: 3.0+ MB\n"
     ]
    }
   ],
   "source": [
    "df_credit.info()"
   ]
  },
  {
   "cell_type": "code",
   "execution_count": 133,
   "metadata": {},
   "outputs": [
    {
     "data": {
      "text/plain": [
       "person_age                       0\n",
       "person_income                    0\n",
       "person_home_ownership            0\n",
       "person_emp_length              895\n",
       "loan_intent                      0\n",
       "loan_grade                       0\n",
       "loan_amnt                        0\n",
       "loan_int_rate                 3116\n",
       "loan_status                      0\n",
       "loan_percent_income              0\n",
       "cb_person_default_on_file        0\n",
       "cb_person_cred_hist_length       0\n",
       "dtype: int64"
      ]
     },
     "execution_count": 133,
     "metadata": {},
     "output_type": "execute_result"
    }
   ],
   "source": [
    "df_credit.isnull().sum()"
   ]
  },
  {
   "cell_type": "code",
   "execution_count": 134,
   "metadata": {},
   "outputs": [
    {
     "data": {
      "text/html": [
       "<div>\n",
       "<style scoped>\n",
       "    .dataframe tbody tr th:only-of-type {\n",
       "        vertical-align: middle;\n",
       "    }\n",
       "\n",
       "    .dataframe tbody tr th {\n",
       "        vertical-align: top;\n",
       "    }\n",
       "\n",
       "    .dataframe thead th {\n",
       "        text-align: right;\n",
       "    }\n",
       "</style>\n",
       "<table border=\"1\" class=\"dataframe\">\n",
       "  <thead>\n",
       "    <tr style=\"text-align: right;\">\n",
       "      <th></th>\n",
       "      <th>person_age</th>\n",
       "      <th>person_income</th>\n",
       "      <th>person_emp_length</th>\n",
       "      <th>loan_amnt</th>\n",
       "      <th>loan_int_rate</th>\n",
       "      <th>loan_status</th>\n",
       "      <th>loan_percent_income</th>\n",
       "      <th>cb_person_cred_hist_length</th>\n",
       "    </tr>\n",
       "  </thead>\n",
       "  <tbody>\n",
       "    <tr>\n",
       "      <th>count</th>\n",
       "      <td>32581.000000</td>\n",
       "      <td>3.258100e+04</td>\n",
       "      <td>31686.000000</td>\n",
       "      <td>32581.000000</td>\n",
       "      <td>29465.000000</td>\n",
       "      <td>32581.000000</td>\n",
       "      <td>32581.000000</td>\n",
       "      <td>32581.000000</td>\n",
       "    </tr>\n",
       "    <tr>\n",
       "      <th>mean</th>\n",
       "      <td>27.734600</td>\n",
       "      <td>6.607485e+04</td>\n",
       "      <td>4.789686</td>\n",
       "      <td>9589.371106</td>\n",
       "      <td>11.011695</td>\n",
       "      <td>0.218164</td>\n",
       "      <td>0.170203</td>\n",
       "      <td>5.804211</td>\n",
       "    </tr>\n",
       "    <tr>\n",
       "      <th>std</th>\n",
       "      <td>6.348078</td>\n",
       "      <td>6.198312e+04</td>\n",
       "      <td>4.142630</td>\n",
       "      <td>6322.086646</td>\n",
       "      <td>3.240459</td>\n",
       "      <td>0.413006</td>\n",
       "      <td>0.106782</td>\n",
       "      <td>4.055001</td>\n",
       "    </tr>\n",
       "    <tr>\n",
       "      <th>min</th>\n",
       "      <td>20.000000</td>\n",
       "      <td>4.000000e+03</td>\n",
       "      <td>0.000000</td>\n",
       "      <td>500.000000</td>\n",
       "      <td>5.420000</td>\n",
       "      <td>0.000000</td>\n",
       "      <td>0.000000</td>\n",
       "      <td>2.000000</td>\n",
       "    </tr>\n",
       "    <tr>\n",
       "      <th>25%</th>\n",
       "      <td>23.000000</td>\n",
       "      <td>3.850000e+04</td>\n",
       "      <td>2.000000</td>\n",
       "      <td>5000.000000</td>\n",
       "      <td>7.900000</td>\n",
       "      <td>0.000000</td>\n",
       "      <td>0.090000</td>\n",
       "      <td>3.000000</td>\n",
       "    </tr>\n",
       "    <tr>\n",
       "      <th>50%</th>\n",
       "      <td>26.000000</td>\n",
       "      <td>5.500000e+04</td>\n",
       "      <td>4.000000</td>\n",
       "      <td>8000.000000</td>\n",
       "      <td>10.990000</td>\n",
       "      <td>0.000000</td>\n",
       "      <td>0.150000</td>\n",
       "      <td>4.000000</td>\n",
       "    </tr>\n",
       "    <tr>\n",
       "      <th>75%</th>\n",
       "      <td>30.000000</td>\n",
       "      <td>7.920000e+04</td>\n",
       "      <td>7.000000</td>\n",
       "      <td>12200.000000</td>\n",
       "      <td>13.470000</td>\n",
       "      <td>0.000000</td>\n",
       "      <td>0.230000</td>\n",
       "      <td>8.000000</td>\n",
       "    </tr>\n",
       "    <tr>\n",
       "      <th>max</th>\n",
       "      <td>144.000000</td>\n",
       "      <td>6.000000e+06</td>\n",
       "      <td>123.000000</td>\n",
       "      <td>35000.000000</td>\n",
       "      <td>23.220000</td>\n",
       "      <td>1.000000</td>\n",
       "      <td>0.830000</td>\n",
       "      <td>30.000000</td>\n",
       "    </tr>\n",
       "  </tbody>\n",
       "</table>\n",
       "</div>"
      ],
      "text/plain": [
       "         person_age  person_income  person_emp_length     loan_amnt  \\\n",
       "count  32581.000000   3.258100e+04       31686.000000  32581.000000   \n",
       "mean      27.734600   6.607485e+04           4.789686   9589.371106   \n",
       "std        6.348078   6.198312e+04           4.142630   6322.086646   \n",
       "min       20.000000   4.000000e+03           0.000000    500.000000   \n",
       "25%       23.000000   3.850000e+04           2.000000   5000.000000   \n",
       "50%       26.000000   5.500000e+04           4.000000   8000.000000   \n",
       "75%       30.000000   7.920000e+04           7.000000  12200.000000   \n",
       "max      144.000000   6.000000e+06         123.000000  35000.000000   \n",
       "\n",
       "       loan_int_rate   loan_status  loan_percent_income  \\\n",
       "count   29465.000000  32581.000000         32581.000000   \n",
       "mean       11.011695      0.218164             0.170203   \n",
       "std         3.240459      0.413006             0.106782   \n",
       "min         5.420000      0.000000             0.000000   \n",
       "25%         7.900000      0.000000             0.090000   \n",
       "50%        10.990000      0.000000             0.150000   \n",
       "75%        13.470000      0.000000             0.230000   \n",
       "max        23.220000      1.000000             0.830000   \n",
       "\n",
       "       cb_person_cred_hist_length  \n",
       "count                32581.000000  \n",
       "mean                     5.804211  \n",
       "std                      4.055001  \n",
       "min                      2.000000  \n",
       "25%                      3.000000  \n",
       "50%                      4.000000  \n",
       "75%                      8.000000  \n",
       "max                     30.000000  "
      ]
     },
     "execution_count": 134,
     "metadata": {},
     "output_type": "execute_result"
    }
   ],
   "source": [
    "df_credit.describe()"
   ]
  },
  {
   "cell_type": "markdown",
   "metadata": {},
   "source": [
    "# Menejo de datos atipicos en edad y tiempo de trabajo de la persona"
   ]
  },
  {
   "cell_type": "code",
   "execution_count": 135,
   "metadata": {},
   "outputs": [
    {
     "data": {
      "image/png": "[encoded data removed]",
      "text/plain": [
       "<Figure size 800x600 with 1 Axes>"
      ]
     },
     "metadata": {},
     "output_type": "display_data"
    }
   ],
   "source": [
    "plt.figure(figsize=(8,6))\n",
    "plt.hist(df_credit['person_age'], bins=5,edgecolor='black')\n",
    "plt.title('Distribucion de datos en edad')\n",
    "plt.xlabel('Valor')\n",
    "plt.ylabel('Freciencia')\n",
    "plt.grid(True)\n",
    "plt.show()"
   ]
  },
  {
   "cell_type": "code",
   "execution_count": 136,
   "metadata": {},
   "outputs": [
    {
     "data": {
      "image/png": "[encoded data removed]",
      "text/plain": [
       "<Figure size 800x600 with 1 Axes>"
      ]
     },
     "metadata": {},
     "output_type": "display_data"
    }
   ],
   "source": [
    "plt.figure(figsize=(8,6))\n",
    "plt.hist(df_credit['person_emp_length'], bins=5,edgecolor='black')\n",
    "plt.title('Distribucion de datos en tiempo laboral')\n",
    "plt.xlabel('Valor')\n",
    "plt.ylabel('Freciencia')\n",
    "plt.grid(True)\n",
    "plt.show()"
   ]
  },
  {
   "cell_type": "code",
   "execution_count": 137,
   "metadata": {},
   "outputs": [],
   "source": [
    "# Elejir registros edad en rango de 20 a 60 años , tiempo de trabajo en rango de 0 a 40 años\n",
    "df_credit_copia = df_credit.drop(df_credit[(df_credit['person_age'] > 60) | (df_credit['person_emp_length'] > 40)].index)"
   ]
  },
  {
   "cell_type": "code",
   "execution_count": 138,
   "metadata": {},
   "outputs": [
    {
     "data": {
      "text/html": [
       "<div>\n",
       "<style scoped>\n",
       "    .dataframe tbody tr th:only-of-type {\n",
       "        vertical-align: middle;\n",
       "    }\n",
       "\n",
       "    .dataframe tbody tr th {\n",
       "        vertical-align: top;\n",
       "    }\n",
       "\n",
       "    .dataframe thead th {\n",
       "        text-align: right;\n",
       "    }\n",
       "</style>\n",
       "<table border=\"1\" class=\"dataframe\">\n",
       "  <thead>\n",
       "    <tr style=\"text-align: right;\">\n",
       "      <th></th>\n",
       "      <th>person_age</th>\n",
       "      <th>person_income</th>\n",
       "      <th>person_emp_length</th>\n",
       "      <th>loan_amnt</th>\n",
       "      <th>loan_int_rate</th>\n",
       "      <th>loan_status</th>\n",
       "      <th>loan_percent_income</th>\n",
       "      <th>cb_person_cred_hist_length</th>\n",
       "    </tr>\n",
       "  </thead>\n",
       "  <tbody>\n",
       "    <tr>\n",
       "      <th>count</th>\n",
       "      <td>32509.000000</td>\n",
       "      <td>3.250900e+04</td>\n",
       "      <td>31615.000000</td>\n",
       "      <td>32509.000000</td>\n",
       "      <td>29404.000000</td>\n",
       "      <td>32509.000000</td>\n",
       "      <td>32509.000000</td>\n",
       "      <td>32509.000000</td>\n",
       "    </tr>\n",
       "    <tr>\n",
       "      <th>mean</th>\n",
       "      <td>27.640592</td>\n",
       "      <td>6.581250e+04</td>\n",
       "      <td>4.778871</td>\n",
       "      <td>9582.322588</td>\n",
       "      <td>11.011214</td>\n",
       "      <td>0.218093</td>\n",
       "      <td>0.170167</td>\n",
       "      <td>5.767111</td>\n",
       "    </tr>\n",
       "    <tr>\n",
       "      <th>std</th>\n",
       "      <td>5.956031</td>\n",
       "      <td>5.167087e+04</td>\n",
       "      <td>4.018175</td>\n",
       "      <td>6313.429762</td>\n",
       "      <td>3.240006</td>\n",
       "      <td>0.412958</td>\n",
       "      <td>0.106736</td>\n",
       "      <td>3.970010</td>\n",
       "    </tr>\n",
       "    <tr>\n",
       "      <th>min</th>\n",
       "      <td>20.000000</td>\n",
       "      <td>4.000000e+03</td>\n",
       "      <td>0.000000</td>\n",
       "      <td>500.000000</td>\n",
       "      <td>5.420000</td>\n",
       "      <td>0.000000</td>\n",
       "      <td>0.000000</td>\n",
       "      <td>2.000000</td>\n",
       "    </tr>\n",
       "    <tr>\n",
       "      <th>25%</th>\n",
       "      <td>23.000000</td>\n",
       "      <td>3.850000e+04</td>\n",
       "      <td>2.000000</td>\n",
       "      <td>5000.000000</td>\n",
       "      <td>7.900000</td>\n",
       "      <td>0.000000</td>\n",
       "      <td>0.090000</td>\n",
       "      <td>3.000000</td>\n",
       "    </tr>\n",
       "    <tr>\n",
       "      <th>50%</th>\n",
       "      <td>26.000000</td>\n",
       "      <td>5.500000e+04</td>\n",
       "      <td>4.000000</td>\n",
       "      <td>8000.000000</td>\n",
       "      <td>10.990000</td>\n",
       "      <td>0.000000</td>\n",
       "      <td>0.150000</td>\n",
       "      <td>4.000000</td>\n",
       "    </tr>\n",
       "    <tr>\n",
       "      <th>75%</th>\n",
       "      <td>30.000000</td>\n",
       "      <td>7.920000e+04</td>\n",
       "      <td>7.000000</td>\n",
       "      <td>12150.000000</td>\n",
       "      <td>13.470000</td>\n",
       "      <td>0.000000</td>\n",
       "      <td>0.230000</td>\n",
       "      <td>8.000000</td>\n",
       "    </tr>\n",
       "    <tr>\n",
       "      <th>max</th>\n",
       "      <td>60.000000</td>\n",
       "      <td>2.039784e+06</td>\n",
       "      <td>38.000000</td>\n",
       "      <td>35000.000000</td>\n",
       "      <td>23.220000</td>\n",
       "      <td>1.000000</td>\n",
       "      <td>0.830000</td>\n",
       "      <td>30.000000</td>\n",
       "    </tr>\n",
       "  </tbody>\n",
       "</table>\n",
       "</div>"
      ],
      "text/plain": [
       "         person_age  person_income  person_emp_length     loan_amnt  \\\n",
       "count  32509.000000   3.250900e+04       31615.000000  32509.000000   \n",
       "mean      27.640592   6.581250e+04           4.778871   9582.322588   \n",
       "std        5.956031   5.167087e+04           4.018175   6313.429762   \n",
       "min       20.000000   4.000000e+03           0.000000    500.000000   \n",
       "25%       23.000000   3.850000e+04           2.000000   5000.000000   \n",
       "50%       26.000000   5.500000e+04           4.000000   8000.000000   \n",
       "75%       30.000000   7.920000e+04           7.000000  12150.000000   \n",
       "max       60.000000   2.039784e+06          38.000000  35000.000000   \n",
       "\n",
       "       loan_int_rate   loan_status  loan_percent_income  \\\n",
       "count   29404.000000  32509.000000         32509.000000   \n",
       "mean       11.011214      0.218093             0.170167   \n",
       "std         3.240006      0.412958             0.106736   \n",
       "min         5.420000      0.000000             0.000000   \n",
       "25%         7.900000      0.000000             0.090000   \n",
       "50%        10.990000      0.000000             0.150000   \n",
       "75%        13.470000      0.000000             0.230000   \n",
       "max        23.220000      1.000000             0.830000   \n",
       "\n",
       "       cb_person_cred_hist_length  \n",
       "count                32509.000000  \n",
       "mean                     5.767111  \n",
       "std                      3.970010  \n",
       "min                      2.000000  \n",
       "25%                      3.000000  \n",
       "50%                      4.000000  \n",
       "75%                      8.000000  \n",
       "max                     30.000000  "
      ]
     },
     "execution_count": 138,
     "metadata": {},
     "output_type": "execute_result"
    }
   ],
   "source": [
    "df_credit_copia.describe()"
   ]
  },
  {
   "cell_type": "code",
   "execution_count": 139,
   "metadata": {},
   "outputs": [
    {
     "data": {
      "text/plain": [
       "person_age                       0\n",
       "person_income                    0\n",
       "person_home_ownership            0\n",
       "person_emp_length              894\n",
       "loan_intent                      0\n",
       "loan_grade                       0\n",
       "loan_amnt                        0\n",
       "loan_int_rate                 3105\n",
       "loan_status                      0\n",
       "loan_percent_income              0\n",
       "cb_person_default_on_file        0\n",
       "cb_person_cred_hist_length       0\n",
       "dtype: int64"
      ]
     },
     "execution_count": 139,
     "metadata": {},
     "output_type": "execute_result"
    }
   ],
   "source": [
    "df_credit_copia.isnull().sum()"
   ]
  },
  {
   "cell_type": "markdown",
   "metadata": {},
   "source": [
    "# Ver comportamimiento de las clases en variable de interes"
   ]
  },
  {
   "cell_type": "code",
   "execution_count": 140,
   "metadata": {},
   "outputs": [
    {
     "data": {
      "image/png": "[encoded data removed]",
      "text/plain": [
       "<Figure size 1200x800 with 1 Axes>"
      ]
     },
     "metadata": {},
     "output_type": "display_data"
    }
   ],
   "source": [
    "class_counts_c = df_credit_copia['loan_status'].value_counts()\n",
    "\n",
    "# Graficar la distribución de las clases\n",
    "plt.figure(figsize=(12, 8))\n",
    "sns.barplot(x=class_counts_c.index, y=class_counts_c.values)\n",
    "plt.title('Distribución de Clases')\n",
    "plt.xlabel('Clase')\n",
    "plt.ylabel('Frecuencia')\n",
    "# Rotar las etiquetas en el eje x para mejorar la legibilidad\n",
    "#plt.xticks(rotation=45)\n",
    "plt.show()"
   ]
  },
  {
   "cell_type": "code",
   "execution_count": 141,
   "metadata": {},
   "outputs": [
    {
     "data": {
      "text/plain": [
       "loan_status\n",
       "0    25419\n",
       "1     7090\n",
       "Name: count, dtype: int64"
      ]
     },
     "execution_count": 141,
     "metadata": {},
     "output_type": "execute_result"
    }
   ],
   "source": [
    "class_counts_c"
   ]
  },
  {
   "cell_type": "markdown",
   "metadata": {},
   "source": [
    "# Analizar datos nulos en clase minoritaria"
   ]
  },
  {
   "cell_type": "code",
   "execution_count": 142,
   "metadata": {},
   "outputs": [
    {
     "data": {
      "text/plain": [
       "person_age                      0\n",
       "person_income                   0\n",
       "person_home_ownership           0\n",
       "person_emp_length             282\n",
       "loan_intent                     0\n",
       "loan_grade                      0\n",
       "loan_amnt                       0\n",
       "loan_int_rate                 642\n",
       "loan_status                     0\n",
       "loan_percent_income             0\n",
       "cb_person_default_on_file       0\n",
       "cb_person_cred_hist_length      0\n",
       "dtype: int64"
      ]
     },
     "execution_count": 142,
     "metadata": {},
     "output_type": "execute_result"
    }
   ],
   "source": [
    "df_data_1 = df_credit_copia[df_credit_copia['loan_status']==1]\n",
    "\n",
    "df_data_1.isnull().sum()"
   ]
  },
  {
   "cell_type": "code",
   "execution_count": 143,
   "metadata": {},
   "outputs": [
    {
     "data": {
      "image/png": "[encoded data removed]",
      "text/plain": [
       "<Figure size 800x600 with 1 Axes>"
      ]
     },
     "metadata": {},
     "output_type": "display_data"
    }
   ],
   "source": [
    "plt.figure(figsize=(8,6))\n",
    "plt.hist(df_data_1['person_emp_length'], bins=5,edgecolor='black')\n",
    "plt.title('Distribucion de datos en tiempo trabajado')\n",
    "plt.xlabel('Valor')\n",
    "plt.ylabel('Freciencia')\n",
    "plt.grid(True)\n",
    "plt.show()"
   ]
  },
  {
   "cell_type": "code",
   "execution_count": 144,
   "metadata": {},
   "outputs": [
    {
     "data": {
      "image/png": "[encoded data removed]",
      "text/plain": [
       "<Figure size 800x600 with 1 Axes>"
      ]
     },
     "metadata": {},
     "output_type": "display_data"
    }
   ],
   "source": [
    "plt.figure(figsize=(8,6))\n",
    "plt.hist(df_data_1['loan_int_rate'], bins=5,edgecolor='black')\n",
    "plt.title('Distribucion de datos loan_int_rate')\n",
    "plt.xlabel('Valor')\n",
    "plt.ylabel('Freciencia')\n",
    "plt.grid(True)\n",
    "plt.show()"
   ]
  },
  {
   "cell_type": "code",
   "execution_count": 145,
   "metadata": {},
   "outputs": [
    {
     "data": {
      "image/png": "[encoded data removed]",
      "text/plain": [
       "<Figure size 1200x800 with 1 Axes>"
      ]
     },
     "metadata": {},
     "output_type": "display_data"
    }
   ],
   "source": [
    "# eliminar datos nulos ya que imputar no es necesario\n",
    "df_credit_EN = df_credit_copia.dropna()\n",
    "\n",
    "# ver comportamimiento de las clases en variable de interes\n",
    "\n",
    "class_counts_EN = df_credit_EN['loan_status'].value_counts()\n",
    "\n",
    "# Graficar la distribución de las clases\n",
    "plt.figure(figsize=(12, 8))\n",
    "sns.barplot(x=class_counts_EN.index, y=class_counts_EN.values)\n",
    "plt.title('Distribución de Clases')\n",
    "plt.xlabel('Clase')\n",
    "plt.ylabel('Frecuencia')\n",
    "# Rotar las etiquetas en el eje x para mejorar la legibilidad\n",
    "#plt.xticks(rotation=45)\n",
    "plt.show()"
   ]
  },
  {
   "cell_type": "code",
   "execution_count": 146,
   "metadata": {},
   "outputs": [
    {
     "data": {
      "text/plain": [
       "loan_status\n",
       "0    22391\n",
       "1     6187\n",
       "Name: count, dtype: int64"
      ]
     },
     "execution_count": 146,
     "metadata": {},
     "output_type": "execute_result"
    }
   ],
   "source": [
    "class_counts_EN"
   ]
  },
  {
   "cell_type": "markdown",
   "metadata": {},
   "source": [
    "# Balanceo de datos de la variable objetivo"
   ]
  },
  {
   "cell_type": "code",
   "execution_count": 147,
   "metadata": {},
   "outputs": [],
   "source": [
    "# apliar submuestreo simple de clase mayoritara\n",
    "\n",
    "df_clase_0 = df_credit_EN[df_credit_EN['loan_status']==0]\n",
    "\n",
    "# seleccioar aleatoriamente\n",
    "df_clase0_r = df_clase_0.sample(n=6187, random_state=42)\n",
    "\n",
    "df_calse_1_n = df_credit_EN[df_credit_EN['loan_status']==1]\n",
    "\n",
    "df_balanced_1 = pd.concat([df_clase0_r,df_calse_1_n])"
   ]
  },
  {
   "cell_type": "code",
   "execution_count": 148,
   "metadata": {},
   "outputs": [
    {
     "data": {
      "image/png": "[encoded data removed]",
      "text/plain": [
       "<Figure size 1200x800 with 1 Axes>"
      ]
     },
     "metadata": {},
     "output_type": "display_data"
    }
   ],
   "source": [
    "class_counts_b = df_balanced_1['loan_status'].value_counts()\n",
    "\n",
    "# Graficar la distribución de las clases\n",
    "plt.figure(figsize=(12, 8))\n",
    "sns.barplot(x=class_counts_b.index, y=class_counts_b.values)\n",
    "plt.title('Distribución de Clases')\n",
    "plt.xlabel('Clase')\n",
    "plt.ylabel('Frecuencia')\n",
    "# Rotar las etiquetas en el eje x para mejorar la legibilidad\n",
    "#plt.xticks(rotation=45)\n",
    "plt.show()"
   ]
  },
  {
   "cell_type": "markdown",
   "metadata": {},
   "source": [
    "# Normalizar datos, codificar categorias"
   ]
  },
  {
   "cell_type": "code",
   "execution_count": 149,
   "metadata": {},
   "outputs": [
    {
     "data": {
      "text/html": [
       "<div>\n",
       "<style scoped>\n",
       "    .dataframe tbody tr th:only-of-type {\n",
       "        vertical-align: middle;\n",
       "    }\n",
       "\n",
       "    .dataframe tbody tr th {\n",
       "        vertical-align: top;\n",
       "    }\n",
       "\n",
       "    .dataframe thead th {\n",
       "        text-align: right;\n",
       "    }\n",
       "</style>\n",
       "<table border=\"1\" class=\"dataframe\">\n",
       "  <thead>\n",
       "    <tr style=\"text-align: right;\">\n",
       "      <th></th>\n",
       "      <th>person_age</th>\n",
       "      <th>person_income</th>\n",
       "      <th>person_home_ownership</th>\n",
       "      <th>person_emp_length</th>\n",
       "      <th>loan_intent</th>\n",
       "      <th>loan_grade</th>\n",
       "      <th>loan_amnt</th>\n",
       "      <th>loan_int_rate</th>\n",
       "      <th>loan_status</th>\n",
       "      <th>loan_percent_income</th>\n",
       "      <th>cb_person_default_on_file</th>\n",
       "      <th>cb_person_cred_hist_length</th>\n",
       "    </tr>\n",
       "  </thead>\n",
       "  <tbody>\n",
       "    <tr>\n",
       "      <th>19386</th>\n",
       "      <td>31</td>\n",
       "      <td>30000</td>\n",
       "      <td>RENT</td>\n",
       "      <td>2.0</td>\n",
       "      <td>PERSONAL</td>\n",
       "      <td>B</td>\n",
       "      <td>3000</td>\n",
       "      <td>10.95</td>\n",
       "      <td>0</td>\n",
       "      <td>0.10</td>\n",
       "      <td>N</td>\n",
       "      <td>8</td>\n",
       "    </tr>\n",
       "    <tr>\n",
       "      <th>2691</th>\n",
       "      <td>26</td>\n",
       "      <td>33800</td>\n",
       "      <td>MORTGAGE</td>\n",
       "      <td>9.0</td>\n",
       "      <td>VENTURE</td>\n",
       "      <td>A</td>\n",
       "      <td>14400</td>\n",
       "      <td>7.88</td>\n",
       "      <td>0</td>\n",
       "      <td>0.43</td>\n",
       "      <td>N</td>\n",
       "      <td>3</td>\n",
       "    </tr>\n",
       "    <tr>\n",
       "      <th>16515</th>\n",
       "      <td>25</td>\n",
       "      <td>38496</td>\n",
       "      <td>MORTGAGE</td>\n",
       "      <td>7.0</td>\n",
       "      <td>HOMEIMPROVEMENT</td>\n",
       "      <td>A</td>\n",
       "      <td>8000</td>\n",
       "      <td>6.03</td>\n",
       "      <td>0</td>\n",
       "      <td>0.21</td>\n",
       "      <td>N</td>\n",
       "      <td>3</td>\n",
       "    </tr>\n",
       "    <tr>\n",
       "      <th>10337</th>\n",
       "      <td>24</td>\n",
       "      <td>67000</td>\n",
       "      <td>OWN</td>\n",
       "      <td>2.0</td>\n",
       "      <td>MEDICAL</td>\n",
       "      <td>B</td>\n",
       "      <td>16000</td>\n",
       "      <td>12.69</td>\n",
       "      <td>0</td>\n",
       "      <td>0.24</td>\n",
       "      <td>N</td>\n",
       "      <td>4</td>\n",
       "    </tr>\n",
       "    <tr>\n",
       "      <th>32362</th>\n",
       "      <td>52</td>\n",
       "      <td>48000</td>\n",
       "      <td>RENT</td>\n",
       "      <td>3.0</td>\n",
       "      <td>MEDICAL</td>\n",
       "      <td>C</td>\n",
       "      <td>11000</td>\n",
       "      <td>12.73</td>\n",
       "      <td>0</td>\n",
       "      <td>0.23</td>\n",
       "      <td>N</td>\n",
       "      <td>22</td>\n",
       "    </tr>\n",
       "  </tbody>\n",
       "</table>\n",
       "</div>"
      ],
      "text/plain": [
       "       person_age  person_income person_home_ownership  person_emp_length  \\\n",
       "19386          31          30000                  RENT                2.0   \n",
       "2691           26          33800              MORTGAGE                9.0   \n",
       "16515          25          38496              MORTGAGE                7.0   \n",
       "10337          24          67000                   OWN                2.0   \n",
       "32362          52          48000                  RENT                3.0   \n",
       "\n",
       "           loan_intent loan_grade  loan_amnt  loan_int_rate  loan_status  \\\n",
       "19386         PERSONAL          B       3000          10.95            0   \n",
       "2691           VENTURE          A      14400           7.88            0   \n",
       "16515  HOMEIMPROVEMENT          A       8000           6.03            0   \n",
       "10337          MEDICAL          B      16000          12.69            0   \n",
       "32362          MEDICAL          C      11000          12.73            0   \n",
       "\n",
       "       loan_percent_income cb_person_default_on_file  \\\n",
       "19386                 0.10                         N   \n",
       "2691                  0.43                         N   \n",
       "16515                 0.21                         N   \n",
       "10337                 0.24                         N   \n",
       "32362                 0.23                         N   \n",
       "\n",
       "       cb_person_cred_hist_length  \n",
       "19386                           8  \n",
       "2691                            3  \n",
       "16515                           3  \n",
       "10337                           4  \n",
       "32362                          22  "
      ]
     },
     "execution_count": 149,
     "metadata": {},
     "output_type": "execute_result"
    }
   ],
   "source": [
    "df_balanced_1.head()"
   ]
  },
  {
   "cell_type": "code",
   "execution_count": 182,
   "metadata": {},
   "outputs": [
    {
     "data": {
      "text/html": [
       "<div>\n",
       "<style scoped>\n",
       "    .dataframe tbody tr th:only-of-type {\n",
       "        vertical-align: middle;\n",
       "    }\n",
       "\n",
       "    .dataframe tbody tr th {\n",
       "        vertical-align: top;\n",
       "    }\n",
       "\n",
       "    .dataframe thead th {\n",
       "        text-align: right;\n",
       "    }\n",
       "</style>\n",
       "<table border=\"1\" class=\"dataframe\">\n",
       "  <thead>\n",
       "    <tr style=\"text-align: right;\">\n",
       "      <th></th>\n",
       "      <th>person_age</th>\n",
       "      <th>person_income</th>\n",
       "      <th>person_emp_length</th>\n",
       "      <th>loan_amnt</th>\n",
       "      <th>loan_int_rate</th>\n",
       "      <th>loan_status</th>\n",
       "      <th>loan_percent_income</th>\n",
       "      <th>cb_person_cred_hist_length</th>\n",
       "    </tr>\n",
       "  </thead>\n",
       "  <tbody>\n",
       "    <tr>\n",
       "      <th>count</th>\n",
       "      <td>12374.000000</td>\n",
       "      <td>1.237400e+04</td>\n",
       "      <td>12374.000000</td>\n",
       "      <td>12374.000000</td>\n",
       "      <td>12374.000000</td>\n",
       "      <td>12374.00000</td>\n",
       "      <td>12374.000000</td>\n",
       "      <td>12374.000000</td>\n",
       "    </tr>\n",
       "    <tr>\n",
       "      <th>mean</th>\n",
       "      <td>27.518183</td>\n",
       "      <td>6.103587e+04</td>\n",
       "      <td>4.533861</td>\n",
       "      <td>10153.505334</td>\n",
       "      <td>11.779791</td>\n",
       "      <td>0.50000</td>\n",
       "      <td>0.197149</td>\n",
       "      <td>5.695571</td>\n",
       "    </tr>\n",
       "    <tr>\n",
       "      <th>std</th>\n",
       "      <td>5.906690</td>\n",
       "      <td>4.921658e+04</td>\n",
       "      <td>3.976201</td>\n",
       "      <td>6644.732294</td>\n",
       "      <td>3.389992</td>\n",
       "      <td>0.50002</td>\n",
       "      <td>0.122082</td>\n",
       "      <td>3.940089</td>\n",
       "    </tr>\n",
       "    <tr>\n",
       "      <th>min</th>\n",
       "      <td>20.000000</td>\n",
       "      <td>4.000000e+03</td>\n",
       "      <td>0.000000</td>\n",
       "      <td>750.000000</td>\n",
       "      <td>5.420000</td>\n",
       "      <td>0.00000</td>\n",
       "      <td>0.000000</td>\n",
       "      <td>2.000000</td>\n",
       "    </tr>\n",
       "    <tr>\n",
       "      <th>25%</th>\n",
       "      <td>23.000000</td>\n",
       "      <td>3.480000e+04</td>\n",
       "      <td>2.000000</td>\n",
       "      <td>5000.000000</td>\n",
       "      <td>8.940000</td>\n",
       "      <td>0.00000</td>\n",
       "      <td>0.100000</td>\n",
       "      <td>3.000000</td>\n",
       "    </tr>\n",
       "    <tr>\n",
       "      <th>50%</th>\n",
       "      <td>26.000000</td>\n",
       "      <td>5.095500e+04</td>\n",
       "      <td>4.000000</td>\n",
       "      <td>8687.500000</td>\n",
       "      <td>11.830000</td>\n",
       "      <td>0.50000</td>\n",
       "      <td>0.170000</td>\n",
       "      <td>4.000000</td>\n",
       "    </tr>\n",
       "    <tr>\n",
       "      <th>75%</th>\n",
       "      <td>30.000000</td>\n",
       "      <td>7.400000e+04</td>\n",
       "      <td>7.000000</td>\n",
       "      <td>14000.000000</td>\n",
       "      <td>14.350000</td>\n",
       "      <td>1.00000</td>\n",
       "      <td>0.280000</td>\n",
       "      <td>8.000000</td>\n",
       "    </tr>\n",
       "    <tr>\n",
       "      <th>max</th>\n",
       "      <td>60.000000</td>\n",
       "      <td>1.440000e+06</td>\n",
       "      <td>34.000000</td>\n",
       "      <td>35000.000000</td>\n",
       "      <td>23.220000</td>\n",
       "      <td>1.00000</td>\n",
       "      <td>0.780000</td>\n",
       "      <td>30.000000</td>\n",
       "    </tr>\n",
       "  </tbody>\n",
       "</table>\n",
       "</div>"
      ],
      "text/plain": [
       "         person_age  person_income  person_emp_length     loan_amnt  \\\n",
       "count  12374.000000   1.237400e+04       12374.000000  12374.000000   \n",
       "mean      27.518183   6.103587e+04           4.533861  10153.505334   \n",
       "std        5.906690   4.921658e+04           3.976201   6644.732294   \n",
       "min       20.000000   4.000000e+03           0.000000    750.000000   \n",
       "25%       23.000000   3.480000e+04           2.000000   5000.000000   \n",
       "50%       26.000000   5.095500e+04           4.000000   8687.500000   \n",
       "75%       30.000000   7.400000e+04           7.000000  14000.000000   \n",
       "max       60.000000   1.440000e+06          34.000000  35000.000000   \n",
       "\n",
       "       loan_int_rate  loan_status  loan_percent_income  \\\n",
       "count   12374.000000  12374.00000         12374.000000   \n",
       "mean       11.779791      0.50000             0.197149   \n",
       "std         3.389992      0.50002             0.122082   \n",
       "min         5.420000      0.00000             0.000000   \n",
       "25%         8.940000      0.00000             0.100000   \n",
       "50%        11.830000      0.50000             0.170000   \n",
       "75%        14.350000      1.00000             0.280000   \n",
       "max        23.220000      1.00000             0.780000   \n",
       "\n",
       "       cb_person_cred_hist_length  \n",
       "count                12374.000000  \n",
       "mean                     5.695571  \n",
       "std                      3.940089  \n",
       "min                      2.000000  \n",
       "25%                      3.000000  \n",
       "50%                      4.000000  \n",
       "75%                      8.000000  \n",
       "max                     30.000000  "
      ]
     },
     "execution_count": 182,
     "metadata": {},
     "output_type": "execute_result"
    }
   ],
   "source": [
    "df_balanced_1.describe()"
   ]
  },
  {
   "cell_type": "code",
   "execution_count": 150,
   "metadata": {},
   "outputs": [],
   "source": [
    "colum_num =['person_age','person_income','person_emp_length','loan_amnt','loan_int_rate','loan_percent_income','cb_person_cred_hist_length']\n",
    "colum_cat = ['person_home_ownership','loan_intent','loan_grade','cb_person_default_on_file']"
   ]
  },
  {
   "cell_type": "code",
   "execution_count": 151,
   "metadata": {},
   "outputs": [],
   "source": [
    "df_balanced_f = df_balanced_1.copy() # copia del df para no alterar los datos originales en los preprocesamientos de datos antes de entrenar"
   ]
  },
  {
   "cell_type": "code",
   "execution_count": 152,
   "metadata": {},
   "outputs": [
    {
     "name": "stdout",
     "output_type": "stream",
     "text": [
      "Parametros min max del encoder\n",
      "[6.000e+01 1.440e+06 3.400e+01 3.500e+04 2.322e+01 7.800e-01 3.000e+01] [6.000e+01 1.440e+06 3.400e+01 3.500e+04 2.322e+01 7.800e-01 3.000e+01]\n",
      "Parametros min max del encoder cargado\n",
      "[2.00e+01 4.00e+03 0.00e+00 7.50e+02 5.42e+00 0.00e+00 2.00e+00] [6.000e+01 1.440e+06 3.400e+01 3.500e+04 2.322e+01 7.800e-01 3.000e+01]\n"
     ]
    }
   ],
   "source": [
    "from sklearn.preprocessing import LabelEncoder # tranfromar datosd categoricos en numeros enteros\n",
    "from sklearn.preprocessing import MinMaxScaler # herramienta para normalizar datos numericos en rango de 0 a 1\n",
    "import joblib\n",
    "#encoder_cat = LabelEncoder()\n",
    "encoder_num = MinMaxScaler()\n",
    "encoder_num.fit(df_balanced_f[colum_num])\n",
    "# Guardamos el encoder en un archivo\n",
    "joblib.dump(encoder_num, 'encoder_num.pkl')\n",
    "\n",
    "print('Parametros min max del encoder')\n",
    "print(encoder_num.data_max_, encoder_num.data_max_)\n",
    "# Cargamos el encoder desde el archivo\n",
    "encoder_load = joblib.load('encoder_num.pkl')\n",
    "\n",
    "print('Parametros min max del encoder cargado')\n",
    "print(encoder_load.data_min_, encoder_load.data_max_)\n",
    "# Aplica encoder numerico a variables int y float\n",
    "#df_balanced_f[colum_num] = encoder_num.fit_transform(df_balanced_f[colum_num])\n",
    "df_balanced_f[colum_num] = encoder_load.transform(df_balanced_f[colum_num])\n",
    "\n",
    "# Guardamos el encoder en un archivo\n",
    "#joblib.dump(encoder_num, 'encoder_num.pkl')"
   ]
  },
  {
   "cell_type": "code",
   "execution_count": 184,
   "metadata": {},
   "outputs": [
    {
     "data": {
      "text/plain": [
       "array(['person_age', 'person_income', 'person_emp_length', 'loan_amnt',\n",
       "       'loan_int_rate', 'loan_percent_income',\n",
       "       'cb_person_cred_hist_length'], dtype=object)"
      ]
     },
     "execution_count": 184,
     "metadata": {},
     "output_type": "execute_result"
    }
   ],
   "source": [
    "encoder_num.feature_names_in_"
   ]
  },
  {
   "cell_type": "code",
   "execution_count": 193,
   "metadata": {},
   "outputs": [
    {
     "data": {
      "text/plain": [
       "array([2.00e+01, 4.00e+03, 0.00e+00, 7.50e+02, 5.42e+00, 0.00e+00,\n",
       "       2.00e+00])"
      ]
     },
     "execution_count": 193,
     "metadata": {},
     "output_type": "execute_result"
    }
   ],
   "source": [
    "encoder_load.data_min_"
   ]
  },
  {
   "cell_type": "markdown",
   "metadata": {},
   "source": [
    "# Aplicar encoder categorico para tranfromar datos de texto en numero por columna"
   ]
  },
  {
   "cell_type": "code",
   "execution_count": 153,
   "metadata": {},
   "outputs": [
    {
     "data": {
      "text/plain": [
       "{'MORTGAGE': 0, 'OTHER': 1, 'OWN': 2, 'RENT': 3}"
      ]
     },
     "execution_count": 153,
     "metadata": {},
     "output_type": "execute_result"
    }
   ],
   "source": [
    "# Aplicar encoder categorico para tranfromar datos de texto en numero por columna\n",
    "\n",
    "colum_in = df_balanced_f['person_home_ownership']\n",
    "encoder_cat_1 = LabelEncoder()\n",
    "\n",
    "encoder_cat_1.fit(colum_in)\n",
    "\n",
    "mapeo_categorias_1 = dict(zip(encoder_cat_1.classes_, encoder_cat_1.transform(encoder_cat_1.classes_)))\n",
    "# usar encoder para tranfromar categoria de columna de interes\n",
    "colum_tran_1 = encoder_cat_1.transform(colum_in)\n",
    "\n",
    "df_balanced_f['p_h_o_trans'] = colum_tran_1\n",
    "\n",
    "#df_balanced_1[colum_cat] = encoder_cat.fit_transform(df_balanced_1[colum_cat])\n",
    "mapeo_categorias_1"
   ]
  },
  {
   "cell_type": "code",
   "execution_count": 154,
   "metadata": {},
   "outputs": [
    {
     "data": {
      "text/plain": [
       "{'DEBTCONSOLIDATION': 0,\n",
       " 'EDUCATION': 1,\n",
       " 'HOMEIMPROVEMENT': 2,\n",
       " 'MEDICAL': 3,\n",
       " 'PERSONAL': 4,\n",
       " 'VENTURE': 5}"
      ]
     },
     "execution_count": 154,
     "metadata": {},
     "output_type": "execute_result"
    }
   ],
   "source": [
    "# Aplicar encoder categorico para tranfromar datos de texto en numero por columna\n",
    "\n",
    "colum_in_2 = df_balanced_f['loan_intent']\n",
    "encoder_cat_2 = LabelEncoder()\n",
    "\n",
    "encoder_cat_2.fit(colum_in_2)\n",
    "\n",
    "mapeo_categorias_2 = dict(zip(encoder_cat_2.classes_, encoder_cat_2.transform(encoder_cat_2.classes_)))\n",
    "# usar encoder para tranfromar categoria de columna de interes\n",
    "colum_tran_2 = encoder_cat_2.transform(colum_in_2)\n",
    "\n",
    "df_balanced_f['loan_intent_trans'] = colum_tran_2\n",
    "mapeo_categorias_2"
   ]
  },
  {
   "cell_type": "code",
   "execution_count": 155,
   "metadata": {},
   "outputs": [
    {
     "data": {
      "text/plain": [
       "{'A': 0, 'B': 1, 'C': 2, 'D': 3, 'E': 4, 'F': 5, 'G': 6}"
      ]
     },
     "execution_count": 155,
     "metadata": {},
     "output_type": "execute_result"
    }
   ],
   "source": [
    "colum_in_3 = df_balanced_f['loan_grade']\n",
    "encoder_cat_3 = LabelEncoder()\n",
    "\n",
    "encoder_cat_3.fit(colum_in_3)\n",
    "\n",
    "mapeo_categorias_3 = dict(zip(encoder_cat_3.classes_, encoder_cat_3.transform(encoder_cat_3.classes_)))\n",
    "# usar encoder para tranfromar categoria de columna de interes\n",
    "colum_tran_3 = encoder_cat_3.transform(colum_in_3)\n",
    "\n",
    "df_balanced_f['loan_grade_trans'] = colum_tran_3\n",
    "mapeo_categorias_3"
   ]
  },
  {
   "cell_type": "code",
   "execution_count": 156,
   "metadata": {},
   "outputs": [
    {
     "data": {
      "text/plain": [
       "{'N': 0, 'Y': 1}"
      ]
     },
     "execution_count": 156,
     "metadata": {},
     "output_type": "execute_result"
    }
   ],
   "source": [
    "colum_in_4 = df_balanced_f['cb_person_default_on_file']\n",
    "encoder_cat_4 = LabelEncoder()\n",
    "\n",
    "encoder_cat_4.fit(colum_in_4)\n",
    "\n",
    "mapeo_categorias_4 = dict(zip(encoder_cat_4.classes_, encoder_cat_4.transform(encoder_cat_4.classes_)))\n",
    "# usar encoder para tranfromar categoria de columna de interes\n",
    "colum_tran_4 = encoder_cat_4.transform(colum_in_4)\n",
    "\n",
    "df_balanced_f['cb_pdf_trans'] = colum_tran_4\n",
    "mapeo_categorias_4"
   ]
  },
  {
   "cell_type": "code",
   "execution_count": 157,
   "metadata": {},
   "outputs": [
    {
     "data": {
      "text/html": [
       "<div>\n",
       "<style scoped>\n",
       "    .dataframe tbody tr th:only-of-type {\n",
       "        vertical-align: middle;\n",
       "    }\n",
       "\n",
       "    .dataframe tbody tr th {\n",
       "        vertical-align: top;\n",
       "    }\n",
       "\n",
       "    .dataframe thead th {\n",
       "        text-align: right;\n",
       "    }\n",
       "</style>\n",
       "<table border=\"1\" class=\"dataframe\">\n",
       "  <thead>\n",
       "    <tr style=\"text-align: right;\">\n",
       "      <th></th>\n",
       "      <th>person_age</th>\n",
       "      <th>person_income</th>\n",
       "      <th>person_home_ownership</th>\n",
       "      <th>person_emp_length</th>\n",
       "      <th>loan_intent</th>\n",
       "      <th>loan_grade</th>\n",
       "      <th>loan_amnt</th>\n",
       "      <th>loan_int_rate</th>\n",
       "      <th>loan_status</th>\n",
       "      <th>loan_percent_income</th>\n",
       "      <th>cb_person_default_on_file</th>\n",
       "      <th>cb_person_cred_hist_length</th>\n",
       "      <th>p_h_o_trans</th>\n",
       "      <th>loan_intent_trans</th>\n",
       "      <th>loan_grade_trans</th>\n",
       "      <th>cb_pdf_trans</th>\n",
       "    </tr>\n",
       "  </thead>\n",
       "  <tbody>\n",
       "    <tr>\n",
       "      <th>19386</th>\n",
       "      <td>0.275</td>\n",
       "      <td>0.018106</td>\n",
       "      <td>RENT</td>\n",
       "      <td>0.058824</td>\n",
       "      <td>PERSONAL</td>\n",
       "      <td>B</td>\n",
       "      <td>0.065693</td>\n",
       "      <td>0.310674</td>\n",
       "      <td>0</td>\n",
       "      <td>0.128205</td>\n",
       "      <td>N</td>\n",
       "      <td>0.214286</td>\n",
       "      <td>3</td>\n",
       "      <td>4</td>\n",
       "      <td>1</td>\n",
       "      <td>0</td>\n",
       "    </tr>\n",
       "    <tr>\n",
       "      <th>2691</th>\n",
       "      <td>0.150</td>\n",
       "      <td>0.020752</td>\n",
       "      <td>MORTGAGE</td>\n",
       "      <td>0.264706</td>\n",
       "      <td>VENTURE</td>\n",
       "      <td>A</td>\n",
       "      <td>0.398540</td>\n",
       "      <td>0.138202</td>\n",
       "      <td>0</td>\n",
       "      <td>0.551282</td>\n",
       "      <td>N</td>\n",
       "      <td>0.035714</td>\n",
       "      <td>0</td>\n",
       "      <td>5</td>\n",
       "      <td>0</td>\n",
       "      <td>0</td>\n",
       "    </tr>\n",
       "    <tr>\n",
       "      <th>16515</th>\n",
       "      <td>0.125</td>\n",
       "      <td>0.024022</td>\n",
       "      <td>MORTGAGE</td>\n",
       "      <td>0.205882</td>\n",
       "      <td>HOMEIMPROVEMENT</td>\n",
       "      <td>A</td>\n",
       "      <td>0.211679</td>\n",
       "      <td>0.034270</td>\n",
       "      <td>0</td>\n",
       "      <td>0.269231</td>\n",
       "      <td>N</td>\n",
       "      <td>0.035714</td>\n",
       "      <td>0</td>\n",
       "      <td>2</td>\n",
       "      <td>0</td>\n",
       "      <td>0</td>\n",
       "    </tr>\n",
       "    <tr>\n",
       "      <th>10337</th>\n",
       "      <td>0.100</td>\n",
       "      <td>0.043872</td>\n",
       "      <td>OWN</td>\n",
       "      <td>0.058824</td>\n",
       "      <td>MEDICAL</td>\n",
       "      <td>B</td>\n",
       "      <td>0.445255</td>\n",
       "      <td>0.408427</td>\n",
       "      <td>0</td>\n",
       "      <td>0.307692</td>\n",
       "      <td>N</td>\n",
       "      <td>0.071429</td>\n",
       "      <td>2</td>\n",
       "      <td>3</td>\n",
       "      <td>1</td>\n",
       "      <td>0</td>\n",
       "    </tr>\n",
       "    <tr>\n",
       "      <th>32362</th>\n",
       "      <td>0.800</td>\n",
       "      <td>0.030641</td>\n",
       "      <td>RENT</td>\n",
       "      <td>0.088235</td>\n",
       "      <td>MEDICAL</td>\n",
       "      <td>C</td>\n",
       "      <td>0.299270</td>\n",
       "      <td>0.410674</td>\n",
       "      <td>0</td>\n",
       "      <td>0.294872</td>\n",
       "      <td>N</td>\n",
       "      <td>0.714286</td>\n",
       "      <td>3</td>\n",
       "      <td>3</td>\n",
       "      <td>2</td>\n",
       "      <td>0</td>\n",
       "    </tr>\n",
       "    <tr>\n",
       "      <th>...</th>\n",
       "      <td>...</td>\n",
       "      <td>...</td>\n",
       "      <td>...</td>\n",
       "      <td>...</td>\n",
       "      <td>...</td>\n",
       "      <td>...</td>\n",
       "      <td>...</td>\n",
       "      <td>...</td>\n",
       "      <td>...</td>\n",
       "      <td>...</td>\n",
       "      <td>...</td>\n",
       "      <td>...</td>\n",
       "      <td>...</td>\n",
       "      <td>...</td>\n",
       "      <td>...</td>\n",
       "      <td>...</td>\n",
       "    </tr>\n",
       "    <tr>\n",
       "      <th>32561</th>\n",
       "      <td>0.850</td>\n",
       "      <td>0.087047</td>\n",
       "      <td>MORTGAGE</td>\n",
       "      <td>0.176471</td>\n",
       "      <td>EDUCATION</td>\n",
       "      <td>B</td>\n",
       "      <td>0.240876</td>\n",
       "      <td>0.341011</td>\n",
       "      <td>1</td>\n",
       "      <td>0.089744</td>\n",
       "      <td>N</td>\n",
       "      <td>0.785714</td>\n",
       "      <td>0</td>\n",
       "      <td>1</td>\n",
       "      <td>1</td>\n",
       "      <td>0</td>\n",
       "    </tr>\n",
       "    <tr>\n",
       "      <th>32563</th>\n",
       "      <td>0.800</td>\n",
       "      <td>0.047019</td>\n",
       "      <td>RENT</td>\n",
       "      <td>0.000000</td>\n",
       "      <td>EDUCATION</td>\n",
       "      <td>E</td>\n",
       "      <td>0.182482</td>\n",
       "      <td>0.640449</td>\n",
       "      <td>1</td>\n",
       "      <td>0.128205</td>\n",
       "      <td>Y</td>\n",
       "      <td>0.785714</td>\n",
       "      <td>3</td>\n",
       "      <td>1</td>\n",
       "      <td>4</td>\n",
       "      <td>1</td>\n",
       "    </tr>\n",
       "    <tr>\n",
       "      <th>32565</th>\n",
       "      <td>0.925</td>\n",
       "      <td>0.025070</td>\n",
       "      <td>RENT</td>\n",
       "      <td>0.029412</td>\n",
       "      <td>MEDICAL</td>\n",
       "      <td>A</td>\n",
       "      <td>0.416058</td>\n",
       "      <td>0.195506</td>\n",
       "      <td>1</td>\n",
       "      <td>0.487179</td>\n",
       "      <td>N</td>\n",
       "      <td>0.678571</td>\n",
       "      <td>3</td>\n",
       "      <td>3</td>\n",
       "      <td>0</td>\n",
       "      <td>0</td>\n",
       "    </tr>\n",
       "    <tr>\n",
       "      <th>32571</th>\n",
       "      <td>1.000</td>\n",
       "      <td>0.028969</td>\n",
       "      <td>RENT</td>\n",
       "      <td>0.029412</td>\n",
       "      <td>VENTURE</td>\n",
       "      <td>B</td>\n",
       "      <td>0.562044</td>\n",
       "      <td>0.257303</td>\n",
       "      <td>1</td>\n",
       "      <td>0.564103</td>\n",
       "      <td>N</td>\n",
       "      <td>0.857143</td>\n",
       "      <td>3</td>\n",
       "      <td>5</td>\n",
       "      <td>1</td>\n",
       "      <td>0</td>\n",
       "    </tr>\n",
       "    <tr>\n",
       "      <th>32574</th>\n",
       "      <td>0.800</td>\n",
       "      <td>0.042482</td>\n",
       "      <td>RENT</td>\n",
       "      <td>0.117647</td>\n",
       "      <td>PERSONAL</td>\n",
       "      <td>D</td>\n",
       "      <td>0.562044</td>\n",
       "      <td>0.570787</td>\n",
       "      <td>1</td>\n",
       "      <td>0.397436</td>\n",
       "      <td>Y</td>\n",
       "      <td>0.607143</td>\n",
       "      <td>3</td>\n",
       "      <td>4</td>\n",
       "      <td>3</td>\n",
       "      <td>1</td>\n",
       "    </tr>\n",
       "  </tbody>\n",
       "</table>\n",
       "<p>12374 rows × 16 columns</p>\n",
       "</div>"
      ],
      "text/plain": [
       "       person_age  person_income person_home_ownership  person_emp_length  \\\n",
       "19386       0.275       0.018106                  RENT           0.058824   \n",
       "2691        0.150       0.020752              MORTGAGE           0.264706   \n",
       "16515       0.125       0.024022              MORTGAGE           0.205882   \n",
       "10337       0.100       0.043872                   OWN           0.058824   \n",
       "32362       0.800       0.030641                  RENT           0.088235   \n",
       "...           ...            ...                   ...                ...   \n",
       "32561       0.850       0.087047              MORTGAGE           0.176471   \n",
       "32563       0.800       0.047019                  RENT           0.000000   \n",
       "32565       0.925       0.025070                  RENT           0.029412   \n",
       "32571       1.000       0.028969                  RENT           0.029412   \n",
       "32574       0.800       0.042482                  RENT           0.117647   \n",
       "\n",
       "           loan_intent loan_grade  loan_amnt  loan_int_rate  loan_status  \\\n",
       "19386         PERSONAL          B   0.065693       0.310674            0   \n",
       "2691           VENTURE          A   0.398540       0.138202            0   \n",
       "16515  HOMEIMPROVEMENT          A   0.211679       0.034270            0   \n",
       "10337          MEDICAL          B   0.445255       0.408427            0   \n",
       "32362          MEDICAL          C   0.299270       0.410674            0   \n",
       "...                ...        ...        ...            ...          ...   \n",
       "32561        EDUCATION          B   0.240876       0.341011            1   \n",
       "32563        EDUCATION          E   0.182482       0.640449            1   \n",
       "32565          MEDICAL          A   0.416058       0.195506            1   \n",
       "32571          VENTURE          B   0.562044       0.257303            1   \n",
       "32574         PERSONAL          D   0.562044       0.570787            1   \n",
       "\n",
       "       loan_percent_income cb_person_default_on_file  \\\n",
       "19386             0.128205                         N   \n",
       "2691              0.551282                         N   \n",
       "16515             0.269231                         N   \n",
       "10337             0.307692                         N   \n",
       "32362             0.294872                         N   \n",
       "...                    ...                       ...   \n",
       "32561             0.089744                         N   \n",
       "32563             0.128205                         Y   \n",
       "32565             0.487179                         N   \n",
       "32571             0.564103                         N   \n",
       "32574             0.397436                         Y   \n",
       "\n",
       "       cb_person_cred_hist_length  p_h_o_trans  loan_intent_trans  \\\n",
       "19386                    0.214286            3                  4   \n",
       "2691                     0.035714            0                  5   \n",
       "16515                    0.035714            0                  2   \n",
       "10337                    0.071429            2                  3   \n",
       "32362                    0.714286            3                  3   \n",
       "...                           ...          ...                ...   \n",
       "32561                    0.785714            0                  1   \n",
       "32563                    0.785714            3                  1   \n",
       "32565                    0.678571            3                  3   \n",
       "32571                    0.857143            3                  5   \n",
       "32574                    0.607143            3                  4   \n",
       "\n",
       "       loan_grade_trans  cb_pdf_trans  \n",
       "19386                 1             0  \n",
       "2691                  0             0  \n",
       "16515                 0             0  \n",
       "10337                 1             0  \n",
       "32362                 2             0  \n",
       "...                 ...           ...  \n",
       "32561                 1             0  \n",
       "32563                 4             1  \n",
       "32565                 0             0  \n",
       "32571                 1             0  \n",
       "32574                 3             1  \n",
       "\n",
       "[12374 rows x 16 columns]"
      ]
     },
     "execution_count": 157,
     "metadata": {},
     "output_type": "execute_result"
    }
   ],
   "source": [
    "df_balanced_f"
   ]
  },
  {
   "cell_type": "markdown",
   "metadata": {},
   "source": [
    "# Definir variables de entrada o matriz \"X\" y variable objetivo o \"y\""
   ]
  },
  {
   "cell_type": "code",
   "execution_count": 158,
   "metadata": {},
   "outputs": [
    {
     "data": {
      "text/html": [
       "<div>\n",
       "<style scoped>\n",
       "    .dataframe tbody tr th:only-of-type {\n",
       "        vertical-align: middle;\n",
       "    }\n",
       "\n",
       "    .dataframe tbody tr th {\n",
       "        vertical-align: top;\n",
       "    }\n",
       "\n",
       "    .dataframe thead th {\n",
       "        text-align: right;\n",
       "    }\n",
       "</style>\n",
       "<table border=\"1\" class=\"dataframe\">\n",
       "  <thead>\n",
       "    <tr style=\"text-align: right;\">\n",
       "      <th></th>\n",
       "      <th>person_age</th>\n",
       "      <th>person_income</th>\n",
       "      <th>person_emp_length</th>\n",
       "      <th>loan_amnt</th>\n",
       "      <th>loan_int_rate</th>\n",
       "      <th>loan_status</th>\n",
       "      <th>loan_percent_income</th>\n",
       "      <th>cb_person_cred_hist_length</th>\n",
       "      <th>p_h_o_trans</th>\n",
       "      <th>loan_intent_trans</th>\n",
       "      <th>loan_grade_trans</th>\n",
       "      <th>cb_pdf_trans</th>\n",
       "    </tr>\n",
       "  </thead>\n",
       "  <tbody>\n",
       "    <tr>\n",
       "      <th>19386</th>\n",
       "      <td>0.275</td>\n",
       "      <td>0.018106</td>\n",
       "      <td>0.058824</td>\n",
       "      <td>0.065693</td>\n",
       "      <td>0.310674</td>\n",
       "      <td>0</td>\n",
       "      <td>0.128205</td>\n",
       "      <td>0.214286</td>\n",
       "      <td>3</td>\n",
       "      <td>4</td>\n",
       "      <td>1</td>\n",
       "      <td>0</td>\n",
       "    </tr>\n",
       "    <tr>\n",
       "      <th>2691</th>\n",
       "      <td>0.150</td>\n",
       "      <td>0.020752</td>\n",
       "      <td>0.264706</td>\n",
       "      <td>0.398540</td>\n",
       "      <td>0.138202</td>\n",
       "      <td>0</td>\n",
       "      <td>0.551282</td>\n",
       "      <td>0.035714</td>\n",
       "      <td>0</td>\n",
       "      <td>5</td>\n",
       "      <td>0</td>\n",
       "      <td>0</td>\n",
       "    </tr>\n",
       "    <tr>\n",
       "      <th>16515</th>\n",
       "      <td>0.125</td>\n",
       "      <td>0.024022</td>\n",
       "      <td>0.205882</td>\n",
       "      <td>0.211679</td>\n",
       "      <td>0.034270</td>\n",
       "      <td>0</td>\n",
       "      <td>0.269231</td>\n",
       "      <td>0.035714</td>\n",
       "      <td>0</td>\n",
       "      <td>2</td>\n",
       "      <td>0</td>\n",
       "      <td>0</td>\n",
       "    </tr>\n",
       "    <tr>\n",
       "      <th>10337</th>\n",
       "      <td>0.100</td>\n",
       "      <td>0.043872</td>\n",
       "      <td>0.058824</td>\n",
       "      <td>0.445255</td>\n",
       "      <td>0.408427</td>\n",
       "      <td>0</td>\n",
       "      <td>0.307692</td>\n",
       "      <td>0.071429</td>\n",
       "      <td>2</td>\n",
       "      <td>3</td>\n",
       "      <td>1</td>\n",
       "      <td>0</td>\n",
       "    </tr>\n",
       "    <tr>\n",
       "      <th>32362</th>\n",
       "      <td>0.800</td>\n",
       "      <td>0.030641</td>\n",
       "      <td>0.088235</td>\n",
       "      <td>0.299270</td>\n",
       "      <td>0.410674</td>\n",
       "      <td>0</td>\n",
       "      <td>0.294872</td>\n",
       "      <td>0.714286</td>\n",
       "      <td>3</td>\n",
       "      <td>3</td>\n",
       "      <td>2</td>\n",
       "      <td>0</td>\n",
       "    </tr>\n",
       "  </tbody>\n",
       "</table>\n",
       "</div>"
      ],
      "text/plain": [
       "       person_age  person_income  person_emp_length  loan_amnt  loan_int_rate  \\\n",
       "19386       0.275       0.018106           0.058824   0.065693       0.310674   \n",
       "2691        0.150       0.020752           0.264706   0.398540       0.138202   \n",
       "16515       0.125       0.024022           0.205882   0.211679       0.034270   \n",
       "10337       0.100       0.043872           0.058824   0.445255       0.408427   \n",
       "32362       0.800       0.030641           0.088235   0.299270       0.410674   \n",
       "\n",
       "       loan_status  loan_percent_income  cb_person_cred_hist_length  \\\n",
       "19386            0             0.128205                    0.214286   \n",
       "2691             0             0.551282                    0.035714   \n",
       "16515            0             0.269231                    0.035714   \n",
       "10337            0             0.307692                    0.071429   \n",
       "32362            0             0.294872                    0.714286   \n",
       "\n",
       "       p_h_o_trans  loan_intent_trans  loan_grade_trans  cb_pdf_trans  \n",
       "19386            3                  4                 1             0  \n",
       "2691             0                  5                 0             0  \n",
       "16515            0                  2                 0             0  \n",
       "10337            2                  3                 1             0  \n",
       "32362            3                  3                 2             0  "
      ]
     },
     "execution_count": 158,
     "metadata": {},
     "output_type": "execute_result"
    }
   ],
   "source": [
    "df_final = df_balanced_f.drop(columns=colum_cat)\n",
    "\n",
    "df_final.head()"
   ]
  },
  {
   "cell_type": "code",
   "execution_count": 159,
   "metadata": {},
   "outputs": [],
   "source": [
    "X = df_final.drop('loan_status', axis=1)\n",
    "\n",
    "y = df_final['loan_status']"
   ]
  },
  {
   "cell_type": "code",
   "execution_count": 160,
   "metadata": {},
   "outputs": [
    {
     "data": {
      "text/html": [
       "<div>\n",
       "<style scoped>\n",
       "    .dataframe tbody tr th:only-of-type {\n",
       "        vertical-align: middle;\n",
       "    }\n",
       "\n",
       "    .dataframe tbody tr th {\n",
       "        vertical-align: top;\n",
       "    }\n",
       "\n",
       "    .dataframe thead th {\n",
       "        text-align: right;\n",
       "    }\n",
       "</style>\n",
       "<table border=\"1\" class=\"dataframe\">\n",
       "  <thead>\n",
       "    <tr style=\"text-align: right;\">\n",
       "      <th></th>\n",
       "      <th>person_age</th>\n",
       "      <th>person_income</th>\n",
       "      <th>person_emp_length</th>\n",
       "      <th>loan_amnt</th>\n",
       "      <th>loan_int_rate</th>\n",
       "      <th>loan_percent_income</th>\n",
       "      <th>cb_person_cred_hist_length</th>\n",
       "      <th>p_h_o_trans</th>\n",
       "      <th>loan_intent_trans</th>\n",
       "      <th>loan_grade_trans</th>\n",
       "      <th>cb_pdf_trans</th>\n",
       "    </tr>\n",
       "  </thead>\n",
       "  <tbody>\n",
       "    <tr>\n",
       "      <th>19386</th>\n",
       "      <td>0.275</td>\n",
       "      <td>0.018106</td>\n",
       "      <td>0.058824</td>\n",
       "      <td>0.065693</td>\n",
       "      <td>0.310674</td>\n",
       "      <td>0.128205</td>\n",
       "      <td>0.214286</td>\n",
       "      <td>3</td>\n",
       "      <td>4</td>\n",
       "      <td>1</td>\n",
       "      <td>0</td>\n",
       "    </tr>\n",
       "    <tr>\n",
       "      <th>2691</th>\n",
       "      <td>0.150</td>\n",
       "      <td>0.020752</td>\n",
       "      <td>0.264706</td>\n",
       "      <td>0.398540</td>\n",
       "      <td>0.138202</td>\n",
       "      <td>0.551282</td>\n",
       "      <td>0.035714</td>\n",
       "      <td>0</td>\n",
       "      <td>5</td>\n",
       "      <td>0</td>\n",
       "      <td>0</td>\n",
       "    </tr>\n",
       "    <tr>\n",
       "      <th>16515</th>\n",
       "      <td>0.125</td>\n",
       "      <td>0.024022</td>\n",
       "      <td>0.205882</td>\n",
       "      <td>0.211679</td>\n",
       "      <td>0.034270</td>\n",
       "      <td>0.269231</td>\n",
       "      <td>0.035714</td>\n",
       "      <td>0</td>\n",
       "      <td>2</td>\n",
       "      <td>0</td>\n",
       "      <td>0</td>\n",
       "    </tr>\n",
       "    <tr>\n",
       "      <th>10337</th>\n",
       "      <td>0.100</td>\n",
       "      <td>0.043872</td>\n",
       "      <td>0.058824</td>\n",
       "      <td>0.445255</td>\n",
       "      <td>0.408427</td>\n",
       "      <td>0.307692</td>\n",
       "      <td>0.071429</td>\n",
       "      <td>2</td>\n",
       "      <td>3</td>\n",
       "      <td>1</td>\n",
       "      <td>0</td>\n",
       "    </tr>\n",
       "    <tr>\n",
       "      <th>32362</th>\n",
       "      <td>0.800</td>\n",
       "      <td>0.030641</td>\n",
       "      <td>0.088235</td>\n",
       "      <td>0.299270</td>\n",
       "      <td>0.410674</td>\n",
       "      <td>0.294872</td>\n",
       "      <td>0.714286</td>\n",
       "      <td>3</td>\n",
       "      <td>3</td>\n",
       "      <td>2</td>\n",
       "      <td>0</td>\n",
       "    </tr>\n",
       "    <tr>\n",
       "      <th>...</th>\n",
       "      <td>...</td>\n",
       "      <td>...</td>\n",
       "      <td>...</td>\n",
       "      <td>...</td>\n",
       "      <td>...</td>\n",
       "      <td>...</td>\n",
       "      <td>...</td>\n",
       "      <td>...</td>\n",
       "      <td>...</td>\n",
       "      <td>...</td>\n",
       "      <td>...</td>\n",
       "    </tr>\n",
       "    <tr>\n",
       "      <th>32561</th>\n",
       "      <td>0.850</td>\n",
       "      <td>0.087047</td>\n",
       "      <td>0.176471</td>\n",
       "      <td>0.240876</td>\n",
       "      <td>0.341011</td>\n",
       "      <td>0.089744</td>\n",
       "      <td>0.785714</td>\n",
       "      <td>0</td>\n",
       "      <td>1</td>\n",
       "      <td>1</td>\n",
       "      <td>0</td>\n",
       "    </tr>\n",
       "    <tr>\n",
       "      <th>32563</th>\n",
       "      <td>0.800</td>\n",
       "      <td>0.047019</td>\n",
       "      <td>0.000000</td>\n",
       "      <td>0.182482</td>\n",
       "      <td>0.640449</td>\n",
       "      <td>0.128205</td>\n",
       "      <td>0.785714</td>\n",
       "      <td>3</td>\n",
       "      <td>1</td>\n",
       "      <td>4</td>\n",
       "      <td>1</td>\n",
       "    </tr>\n",
       "    <tr>\n",
       "      <th>32565</th>\n",
       "      <td>0.925</td>\n",
       "      <td>0.025070</td>\n",
       "      <td>0.029412</td>\n",
       "      <td>0.416058</td>\n",
       "      <td>0.195506</td>\n",
       "      <td>0.487179</td>\n",
       "      <td>0.678571</td>\n",
       "      <td>3</td>\n",
       "      <td>3</td>\n",
       "      <td>0</td>\n",
       "      <td>0</td>\n",
       "    </tr>\n",
       "    <tr>\n",
       "      <th>32571</th>\n",
       "      <td>1.000</td>\n",
       "      <td>0.028969</td>\n",
       "      <td>0.029412</td>\n",
       "      <td>0.562044</td>\n",
       "      <td>0.257303</td>\n",
       "      <td>0.564103</td>\n",
       "      <td>0.857143</td>\n",
       "      <td>3</td>\n",
       "      <td>5</td>\n",
       "      <td>1</td>\n",
       "      <td>0</td>\n",
       "    </tr>\n",
       "    <tr>\n",
       "      <th>32574</th>\n",
       "      <td>0.800</td>\n",
       "      <td>0.042482</td>\n",
       "      <td>0.117647</td>\n",
       "      <td>0.562044</td>\n",
       "      <td>0.570787</td>\n",
       "      <td>0.397436</td>\n",
       "      <td>0.607143</td>\n",
       "      <td>3</td>\n",
       "      <td>4</td>\n",
       "      <td>3</td>\n",
       "      <td>1</td>\n",
       "    </tr>\n",
       "  </tbody>\n",
       "</table>\n",
       "<p>12374 rows × 11 columns</p>\n",
       "</div>"
      ],
      "text/plain": [
       "       person_age  person_income  person_emp_length  loan_amnt  loan_int_rate  \\\n",
       "19386       0.275       0.018106           0.058824   0.065693       0.310674   \n",
       "2691        0.150       0.020752           0.264706   0.398540       0.138202   \n",
       "16515       0.125       0.024022           0.205882   0.211679       0.034270   \n",
       "10337       0.100       0.043872           0.058824   0.445255       0.408427   \n",
       "32362       0.800       0.030641           0.088235   0.299270       0.410674   \n",
       "...           ...            ...                ...        ...            ...   \n",
       "32561       0.850       0.087047           0.176471   0.240876       0.341011   \n",
       "32563       0.800       0.047019           0.000000   0.182482       0.640449   \n",
       "32565       0.925       0.025070           0.029412   0.416058       0.195506   \n",
       "32571       1.000       0.028969           0.029412   0.562044       0.257303   \n",
       "32574       0.800       0.042482           0.117647   0.562044       0.570787   \n",
       "\n",
       "       loan_percent_income  cb_person_cred_hist_length  p_h_o_trans  \\\n",
       "19386             0.128205                    0.214286            3   \n",
       "2691              0.551282                    0.035714            0   \n",
       "16515             0.269231                    0.035714            0   \n",
       "10337             0.307692                    0.071429            2   \n",
       "32362             0.294872                    0.714286            3   \n",
       "...                    ...                         ...          ...   \n",
       "32561             0.089744                    0.785714            0   \n",
       "32563             0.128205                    0.785714            3   \n",
       "32565             0.487179                    0.678571            3   \n",
       "32571             0.564103                    0.857143            3   \n",
       "32574             0.397436                    0.607143            3   \n",
       "\n",
       "       loan_intent_trans  loan_grade_trans  cb_pdf_trans  \n",
       "19386                  4                 1             0  \n",
       "2691                   5                 0             0  \n",
       "16515                  2                 0             0  \n",
       "10337                  3                 1             0  \n",
       "32362                  3                 2             0  \n",
       "...                  ...               ...           ...  \n",
       "32561                  1                 1             0  \n",
       "32563                  1                 4             1  \n",
       "32565                  3                 0             0  \n",
       "32571                  5                 1             0  \n",
       "32574                  4                 3             1  \n",
       "\n",
       "[12374 rows x 11 columns]"
      ]
     },
     "execution_count": 160,
     "metadata": {},
     "output_type": "execute_result"
    }
   ],
   "source": [
    "X"
   ]
  },
  {
   "cell_type": "code",
   "execution_count": 161,
   "metadata": {},
   "outputs": [
    {
     "data": {
      "text/plain": [
       "19386    0\n",
       "2691     0\n",
       "16515    0\n",
       "10337    0\n",
       "32362    0\n",
       "        ..\n",
       "32561    1\n",
       "32563    1\n",
       "32565    1\n",
       "32571    1\n",
       "32574    1\n",
       "Name: loan_status, Length: 12374, dtype: int64"
      ]
     },
     "execution_count": 161,
     "metadata": {},
     "output_type": "execute_result"
    }
   ],
   "source": [
    "y"
   ]
  },
  {
   "cell_type": "markdown",
   "metadata": {},
   "source": [
    "# Corte de conjutno de datos entrenamiento y prueba"
   ]
  },
  {
   "cell_type": "code",
   "execution_count": 162,
   "metadata": {},
   "outputs": [
    {
     "name": "stdout",
     "output_type": "stream",
     "text": [
      "Conjunto de datos de entrada de entrenamiento (9899, 11)\n",
      "Conjunto de datos de salida de entrenamiento (9899,)\n",
      "Conjunto de datos de entrada de prueba (2475, 11)\n",
      "Conjunto de datos de salida de prueba (2475,)\n"
     ]
    }
   ],
   "source": [
    "from sklearn.model_selection import train_test_split\n",
    "\n",
    "# División del conjutno de datos en entrenamiento y prueba\n",
    "\n",
    "X_train, X_test, y_train, y_test = train_test_split(X, y, test_size= 0.2, random_state= 42 )\n",
    "\n",
    "print('Conjunto de datos de entrada de entrenamiento', X_train.shape)\n",
    "print('Conjunto de datos de salida de entrenamiento', y_train.shape)\n",
    "\n",
    "print('Conjunto de datos de entrada de prueba', X_test.shape)\n",
    "print('Conjunto de datos de salida de prueba', y_test.shape)"
   ]
  },
  {
   "cell_type": "markdown",
   "metadata": {},
   "source": [
    "# Entrenar modelo de machine learning"
   ]
  },
  {
   "cell_type": "code",
   "execution_count": 163,
   "metadata": {},
   "outputs": [],
   "source": [
    "from sklearn.tree import DecisionTreeClassifier\n",
    "from sklearn.svm import SVC\n",
    "from sklearn.ensemble import RandomForestClassifier\n",
    "\n",
    "from sklearn.metrics import accuracy_score, precision_score, recall_score, f1_score"
   ]
  },
  {
   "cell_type": "code",
   "execution_count": 164,
   "metadata": {},
   "outputs": [],
   "source": [
    "# definir los mdoelos\n",
    "model_dt = DecisionTreeClassifier()\n",
    "\n",
    "model_svc = SVC()\n",
    "\n",
    "model_rfc = RandomForestClassifier()# Entrenar modelo de machine learning"
   ]
  },
  {
   "cell_type": "code",
   "execution_count": 165,
   "metadata": {},
   "outputs": [
    {
     "name": "stdout",
     "output_type": "stream",
     "text": [
      "Exactitud del modelo DecisionTreeClassifier =  0.802020202020202\n"
     ]
    }
   ],
   "source": [
    "# Entrenar model DecisionTreeClassifier()\n",
    "\n",
    "model_dt.fit(X_train, y_train)\n",
    "\n",
    "y_pred_dt = model_dt.predict(X_test)\n",
    "\n",
    "accuracy_dt = accuracy_score( y_test, y_pred_dt)\n",
    "\n",
    "print('Exactitud del modelo DecisionTreeClassifier = ', accuracy_dt)"
   ]
  },
  {
   "cell_type": "code",
   "execution_count": 166,
   "metadata": {},
   "outputs": [
    {
     "name": "stdout",
     "output_type": "stream",
     "text": [
      "Predicción para el sexto dato: [1]\n",
      "label real para el sexto dato: 1\n"
     ]
    },
    {
     "name": "stderr",
     "output_type": "stream",
     "text": [
      "d:\\Proyectos_IA\\Credit_predic\\venv_credit\\Lib\\site-packages\\sklearn\\base.py:493: UserWarning: X does not have valid feature names, but DecisionTreeClassifier was fitted with feature names\n",
      "  warnings.warn(\n"
     ]
    }
   ],
   "source": [
    "# Obtener los datos del sexto dato de X_test\n",
    "dato_a_predecir = X_test.iloc[5]\n",
    "\n",
    "# Convertir los datos a una matriz de características con una sola fila\n",
    "dato_a_predecir = np.array(dato_a_predecir).reshape(1, -1)\n",
    "\n",
    "# Ahora, puedes llamar al método predict() del modelo y pasar el dato a predecir\n",
    "prediccion = model_dt.predict(dato_a_predecir)\n",
    "\n",
    "# La variable 'prediccion' contendrá el resultado de la predicción para este solo dato\n",
    "print('Predicción para el sexto dato:', prediccion)\n",
    "print('label real para el sexto dato:', y_test.iloc[5])"
   ]
  },
  {
   "cell_type": "code",
   "execution_count": 167,
   "metadata": {},
   "outputs": [
    {
     "data": {
      "text/plain": [
       "pandas.core.series.Series"
      ]
     },
     "execution_count": 167,
     "metadata": {},
     "output_type": "execute_result"
    }
   ],
   "source": [
    "type(y_test)"
   ]
  },
  {
   "cell_type": "code",
   "execution_count": 168,
   "metadata": {},
   "outputs": [
    {
     "name": "stdout",
     "output_type": "stream",
     "text": [
      "Exactitud del modelo SVC =  0.7947474747474748\n"
     ]
    }
   ],
   "source": [
    "# Entrenar model SVC\n",
    "\n",
    "model_svc.fit(X_train, y_train)\n",
    "\n",
    "y_pred_dt_2 = model_svc.predict(X_test)\n",
    "\n",
    "accuracy_dt_2 = accuracy_score( y_test, y_pred_dt_2)\n",
    "\n",
    "print('Exactitud del modelo SVC = ', accuracy_dt_2)"
   ]
  },
  {
   "cell_type": "code",
   "execution_count": 169,
   "metadata": {},
   "outputs": [
    {
     "name": "stdout",
     "output_type": "stream",
     "text": [
      "Exactitud del modelo RandomForestClassifier =  0.8525252525252526\n"
     ]
    }
   ],
   "source": [
    "# Entrenar model RandomForestClassifier\n",
    "\n",
    "model_rfc.fit(X_train, y_train)\n",
    "\n",
    "y_pred_dt_3 = model_rfc.predict(X_test)\n",
    "\n",
    "accuracy_dt_3 = accuracy_score( y_test, y_pred_dt_3)\n",
    "\n",
    "print('Exactitud del modelo RandomForestClassifier = ', accuracy_dt_3)"
   ]
  },
  {
   "cell_type": "markdown",
   "metadata": {},
   "source": [
    "# Empaquetar modelo "
   ]
  },
  {
   "cell_type": "code",
   "execution_count": 170,
   "metadata": {},
   "outputs": [
    {
     "data": {
      "text/plain": [
       "['model_credit_svc.plk']"
      ]
     },
     "execution_count": 170,
     "metadata": {},
     "output_type": "execute_result"
    }
   ],
   "source": [
    "import joblib\n",
    "\n",
    "joblib.dump(model_svc,'model_credit_svc.plk')"
   ]
  },
  {
   "cell_type": "code",
   "execution_count": 171,
   "metadata": {},
   "outputs": [
    {
     "data": {
      "text/plain": [
       "person_age                           21\n",
       "person_income                      9600\n",
       "person_home_ownership               OWN\n",
       "person_emp_length                   5.0\n",
       "loan_intent                   EDUCATION\n",
       "loan_grade                            B\n",
       "loan_amnt                          1000\n",
       "loan_int_rate                     11.14\n",
       "loan_status                           0\n",
       "loan_percent_income                 0.1\n",
       "cb_person_default_on_file             N\n",
       "cb_person_cred_hist_length            2\n",
       "Name: 1, dtype: object"
      ]
     },
     "execution_count": 171,
     "metadata": {},
     "output_type": "execute_result"
    }
   ],
   "source": [
    "# extraccion de datos reales para normalizar \n",
    "\n",
    "valores = df_credit.iloc[1]\n",
    "\n",
    "valores"
   ]
  },
  {
   "cell_type": "code",
   "execution_count": 172,
   "metadata": {},
   "outputs": [
    {
     "data": {
      "text/plain": [
       "person_age                       21\n",
       "person_income                  9600\n",
       "person_emp_length               5.0\n",
       "loan_amnt                      1000\n",
       "loan_int_rate                 11.14\n",
       "loan_percent_income             0.1\n",
       "cb_person_cred_hist_length        2\n",
       "Name: 1, dtype: object"
      ]
     },
     "execution_count": 172,
     "metadata": {},
     "output_type": "execute_result"
    }
   ],
   "source": [
    "valores_num= valores[colum_num]\n",
    "\n",
    "valores_num"
   ]
  },
  {
   "cell_type": "code",
   "execution_count": 173,
   "metadata": {},
   "outputs": [],
   "source": [
    "person_age = valores.iloc[0]\n",
    "person_income = valores.iloc[1]\n",
    "person_emp_length = valores.iloc[3]\n",
    "loan_amnt = valores.iloc[6]\n",
    "loan_int_rate = valores.iloc[7]\n",
    "loan_percent_income = valores.iloc[9]\n",
    "cb_person_cred_hist_length = valores.iloc[11]\n",
    "\n",
    "#datos_a_nor =[person_age,person_income,person_emp_length,loan_amnt,loan_int_rate,loan_percent_income,cb_person_cred_hist_length]\n",
    "datos_a_nor = np.array([person_age, person_income, person_emp_length, loan_amnt, loan_int_rate, loan_percent_income, cb_person_cred_hist_length])\n",
    "\n",
    "# Cambia la forma del array a bidimensional\n",
    "datos_a_nor = datos_a_nor.reshape(1, -1)\n",
    "\n",
    "df_d_n = pd.DataFrame({'person_age' : [person_age],\n",
    "                        'person_income' : [person_income],\n",
    "                        'person_emp_length' : [person_emp_length],\n",
    "                        'loan_amnt' : [loan_amnt],\n",
    "                        'loan_int_rate' : [loan_int_rate],\n",
    "                        'loan_percent_income' : [loan_percent_income],\n",
    "                        'cb_person_cred_hist_length' : [cb_person_cred_hist_length]})"
   ]
  },
  {
   "cell_type": "code",
   "execution_count": 197,
   "metadata": {},
   "outputs": [
    {
     "name": "stderr",
     "output_type": "stream",
     "text": [
      "d:\\Proyectos_IA\\Credit_predic\\venv_credit\\Lib\\site-packages\\sklearn\\base.py:493: UserWarning: X does not have valid feature names, but MinMaxScaler was fitted with feature names\n",
      "  warnings.warn(\n"
     ]
    }
   ],
   "source": [
    "# Cargamos el encoder desde el archivo\n",
    "#encoder_num = joblib.load('encoder_num.pkl')\n",
    "\n",
    "# Normalizamos nuevos datos\n",
    "datos_norm = encoder_load.transform(datos_a_nor)"
   ]
  },
  {
   "cell_type": "code",
   "execution_count": 198,
   "metadata": {},
   "outputs": [
    {
     "data": {
      "text/plain": [
       "array([[0.025     , 0.00389972, 0.14705882, 0.00729927, 0.32134831,\n",
       "        0.12820513, 0.        ]])"
      ]
     },
     "execution_count": 198,
     "metadata": {},
     "output_type": "execute_result"
    }
   ],
   "source": [
    "datos_norm"
   ]
  },
  {
   "cell_type": "code",
   "execution_count": 200,
   "metadata": {},
   "outputs": [],
   "source": [
    "person_age_n = datos_norm[0, 0]\n",
    "person_income_n = datos_norm[0, 1]\n",
    "person_emp_length_n = datos_norm[0, 2]\n",
    "loan_amnt_n = datos_norm[0, 3]\n",
    "loan_int_rate_n = datos_norm[0, 4]\n",
    "loan_percent_income_n = datos_norm[0, 5]\n",
    "cb_person_cred_hist_length_n = datos_norm[0, 6]\n",
    "#Value categorical\n",
    "p_h_o_trans = 2\n",
    "loan_intent_trans =1\n",
    "loan_grade_trans =1\n",
    "cb_pdf_trans =0"
   ]
  },
  {
   "cell_type": "code",
   "execution_count": 201,
   "metadata": {},
   "outputs": [
    {
     "data": {
      "text/plain": [
       "9600"
      ]
     },
     "execution_count": 201,
     "metadata": {},
     "output_type": "execute_result"
    }
   ],
   "source": [
    "person_income"
   ]
  },
  {
   "cell_type": "code",
   "execution_count": 202,
   "metadata": {},
   "outputs": [
    {
     "data": {
      "text/plain": [
       "0.0038997214484679673"
      ]
     },
     "execution_count": 202,
     "metadata": {},
     "output_type": "execute_result"
    }
   ],
   "source": [
    "person_income_n"
   ]
  },
  {
   "cell_type": "code",
   "execution_count": 203,
   "metadata": {},
   "outputs": [
    {
     "name": "stdout",
     "output_type": "stream",
     "text": [
      "Valor escalado: 0.025\n"
     ]
    }
   ],
   "source": [
    "def min_max_scaler(x, feature_min, feature_max, new_min=0, new_max=1):\n",
    "    return new_min + (x - feature_min) * (new_max - new_min) / (feature_max - feature_min)\n",
    "\n",
    "# Ejemplo de uso:\n",
    "x = 21  # Valor original que queremos escalar\n",
    "feature_min = 20  # Mínimo valor en el rango original\n",
    "feature_max = 60  # Máximo valor en el rango original\n",
    "new_min = 0  # Nuevo mínimo valor del rango\n",
    "new_max = 1  # Nuevo máximo valor del rango\n",
    "\n",
    "x_scaled = min_max_scaler(x, feature_min, feature_max, new_min, new_max)\n",
    "print(\"Valor escalado:\", x_scaled)"
   ]
  },
  {
   "cell_type": "code",
   "execution_count": 204,
   "metadata": {},
   "outputs": [],
   "source": [
    "dato_pre_c = np.array([\n",
    "        [person_age_n, person_income_n, person_emp_length_n, loan_amnt_n, loan_int_rate_n, \n",
    "         loan_percent_income_n, cb_person_cred_hist_length_n, p_h_o_trans, \n",
    "         loan_intent_trans, loan_grade_trans, cb_pdf_trans]\n",
    "])"
   ]
  },
  {
   "cell_type": "code",
   "execution_count": 206,
   "metadata": {},
   "outputs": [
    {
     "name": "stdout",
     "output_type": "stream",
     "text": [
      "Predicción para el sexto dato: [1]\n",
      "label real para el sexto dato: 1\n"
     ]
    },
    {
     "name": "stderr",
     "output_type": "stream",
     "text": [
      "d:\\Proyectos_IA\\Credit_predic\\venv_credit\\Lib\\site-packages\\sklearn\\base.py:493: UserWarning: X does not have valid feature names, but DecisionTreeClassifier was fitted with feature names\n",
      "  warnings.warn(\n"
     ]
    }
   ],
   "source": [
    "#Probar modelo empaquetado\n",
    "\n",
    "model_load = joblib.load('model_credit_dt.plk')\n",
    "\n",
    "#predic_model = model_load.predict(X_test[:5])\n",
    "\n",
    "#print('Prediciones modelo guardado:', predic_model)\n",
    "\n",
    "prediccion_load = model_load.predict(dato_a_predecir)\n",
    "\n",
    "# La variable 'prediccion' contendrá el resultado de la predicción para este solo dato\n",
    "print('Predicción para el sexto dato:', prediccion_load)\n",
    "print('label real para el sexto dato:', y_test.iloc[5])"
   ]
  },
  {
   "cell_type": "code",
   "execution_count": 207,
   "metadata": {},
   "outputs": [
    {
     "name": "stdout",
     "output_type": "stream",
     "text": [
      "Predicción para el dato selecioando es: [0]\n",
      "label real para el dato selecionado es: 0\n"
     ]
    },
    {
     "name": "stderr",
     "output_type": "stream",
     "text": [
      "d:\\Proyectos_IA\\Credit_predic\\venv_credit\\Lib\\site-packages\\sklearn\\base.py:493: UserWarning: X does not have valid feature names, but DecisionTreeClassifier was fitted with feature names\n",
      "  warnings.warn(\n"
     ]
    }
   ],
   "source": [
    "prediccion_load_c = model_load.predict(dato_pre_c)\n",
    "print('Predicción para el dato selecioando es:', prediccion_load_c)\n",
    "print('label real para el dato selecionado es:', valores.iloc[8])"
   ]
  },
  {
   "cell_type": "code",
   "execution_count": 208,
   "metadata": {},
   "outputs": [
    {
     "name": "stdout",
     "output_type": "stream",
     "text": [
      "0\n"
     ]
    }
   ],
   "source": [
    "prediccion_load\n",
    "\n",
    "valor = prediccion_load_c[0]\n",
    "\n",
    "print(valor)"
   ]
  },
  {
   "cell_type": "code",
   "execution_count": 209,
   "metadata": {},
   "outputs": [
    {
     "name": "stdout",
     "output_type": "stream",
     "text": [
      "Denegado\n"
     ]
    }
   ],
   "source": [
    "respuesta=''\n",
    "\n",
    "if valor == 1:\n",
    "    respuesta = 'Aprobado'\n",
    "else:\n",
    "    respuesta ='Denegado'\n",
    "\n",
    "print(respuesta)"
   ]
  }
 ],
 "metadata": {
  "kernelspec": {
   "display_name": "venv_proyecto_Credit",
   "language": "python",
   "name": "python3"
  },
  "language_info": {
   "codemirror_mode": {
    "name": "ipython",
    "version": 3
   },
   "file_extension": ".py",
   "mimetype": "text/x-python",
   "name": "python",
   "nbconvert_exporter": "python",
   "pygments_lexer": "ipython3",
   "version": "3.11.4"
  }
 },
 "nbformat": 4,
 "nbformat_minor": 2
}
